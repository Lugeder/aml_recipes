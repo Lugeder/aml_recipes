{
 "cells": [
  {
   "attachments": {},
   "cell_type": "markdown",
   "metadata": {},
   "source": [
    "# Imports"
   ]
  },
  {
   "cell_type": "code",
   "execution_count": null,
   "metadata": {},
   "outputs": [],
   "source": [
    "import os\n",
    "import pandas as pd\n",
    "import ast\n",
    "import numpy as np\n",
    "import tensorflow as tf\n",
    "from tensorflow import keras\n",
    "from keras import layers\n",
    "from sklearn.decomposition import PCA"
   ]
  },
  {
   "cell_type": "code",
   "execution_count": null,
   "metadata": {},
   "outputs": [],
   "source": [
    "dir = os.getcwd()\n",
    "df_features = pd.read_csv(dir + r'\\data\\df_features.csv')\n",
    "df_labels = pd.read_csv(dir + r'\\data\\df_labels.csv')"
   ]
  },
  {
   "attachments": {},
   "cell_type": "markdown",
   "metadata": {},
   "source": [
    "# USER INPUT"
   ]
  },
  {
   "cell_type": "code",
   "execution_count": null,
   "metadata": {},
   "outputs": [],
   "source": [
    "# input of ingredients only for sample visualization of the pca performace \n",
    "input_ingredients = ['vegetable oil', 'onion', 'butter', 'celery', 'carrot', 'ground beef chuck', 'salt', 'black pepper', 'milk', 'nutmeg', 'white wine', 'plum tomatoes', 'pasta', 'parmesan cheese']\n",
    "input_source_category = 'classic' # possible values: vegan, vegetarian or classic\n",
    "input_target_category = 'vegan' # possible values: vegan, vegetarian or classic"
   ]
  },
  {
   "attachments": {},
   "cell_type": "markdown",
   "metadata": {},
   "source": [
    "# Constants and hyperparameters"
   ]
  },
  {
   "cell_type": "code",
   "execution_count": null,
   "metadata": {},
   "outputs": [],
   "source": [
    "batch_size = 128\n",
    "num_channels = 1\n",
    "num_classes = 3\n",
    "\n",
    "latent_dim = 128\n",
    "feature_size = 256 # if changed, generator layers have to be adjusted\n",
    "\n",
    "prob_contained = 0.35 # Threshold value of the probability that an ingredient is included in the fake recipe, from when it is taken into account"
   ]
  },
  {
   "cell_type": "code",
   "execution_count": null,
   "metadata": {},
   "outputs": [],
   "source": [
    "# labels \n",
    "label_encodings = {\n",
    "    'vegan': 0,\n",
    "    'vegetarian': 1,\n",
    "    'classic': 2\n",
    "}"
   ]
  },
  {
   "attachments": {},
   "cell_type": "markdown",
   "metadata": {},
   "source": [
    "# Preprocessing"
   ]
  },
  {
   "attachments": {},
   "cell_type": "markdown",
   "metadata": {},
   "source": [
    "## Calculating numbers"
   ]
  },
  {
   "cell_type": "code",
   "execution_count": null,
   "metadata": {},
   "outputs": [],
   "source": [
    "generator_in_channels = latent_dim + num_classes\n",
    "discriminator_in_channels = num_channels + num_classes\n",
    "print(generator_in_channels, discriminator_in_channels)"
   ]
  },
  {
   "cell_type": "code",
   "execution_count": null,
   "metadata": {},
   "outputs": [],
   "source": [
    "# preprare list of attributes for transforming values of fake recipes to real ingredient names\n",
    "attributes = list(df_features.columns)"
   ]
  },
  {
   "attachments": {},
   "cell_type": "markdown",
   "metadata": {},
   "source": [
    "## User input "
   ]
  },
  {
   "cell_type": "code",
   "execution_count": null,
   "metadata": {},
   "outputs": [],
   "source": [
    "# one hot encode real recipe into dataframe with same structure as training dataframe\n",
    "real_recipe = []\n",
    "for ingredient in attributes: \n",
    "    if ingredient in input_ingredients:\n",
    "        real_recipe.append(1)\n",
    "    else: \n",
    "        real_recipe.append(0)"
   ]
  },
  {
   "cell_type": "code",
   "execution_count": null,
   "metadata": {},
   "outputs": [],
   "source": [
    "# transform input labels to categorical \n",
    "for label in label_encodings: \n",
    "    if input_source_category == label:\n",
    "        start_class = label_encodings[label]\n",
    "    if input_target_category == label:\n",
    "        end_class = label_encodings[label]"
   ]
  },
  {
   "attachments": {},
   "cell_type": "markdown",
   "metadata": {},
   "source": [
    "## PCA"
   ]
  },
  {
   "cell_type": "code",
   "execution_count": null,
   "metadata": {},
   "outputs": [],
   "source": [
    "print('dimensionality before dimensionality reduction:', df_features.shape[1])"
   ]
  },
  {
   "cell_type": "code",
   "execution_count": null,
   "metadata": {},
   "outputs": [],
   "source": [
    "# convert dataframes to numpy arrays\n",
    "df_features = pd.DataFrame(df_features).to_numpy()\n",
    "df_labels = df_labels.to_numpy()\n",
    "\n",
    "# convert list of real recipe to numpy array\n",
    "real_recipe = np.array(real_recipe).reshape(1,len(attributes))"
   ]
  },
  {
   "cell_type": "code",
   "execution_count": null,
   "metadata": {},
   "outputs": [],
   "source": [
    "# dimensionality reduction of training data \n",
    " \n",
    "pca = PCA(n_components = feature_size)\n",
    "# fit the model and perform dimensionality reduction\n",
    "df_features = pca.fit_transform(df_features)\n",
    "    \n",
    "# dimensionality reduction of real recipe\n",
    "real_recipe = pca.transform(real_recipe)"
   ]
  },
  {
   "cell_type": "code",
   "execution_count": null,
   "metadata": {},
   "outputs": [],
   "source": [
    "print('dimensionality after dimensionality reduction:', df_features.shape[1])"
   ]
  },
  {
   "attachments": {},
   "cell_type": "markdown",
   "metadata": {},
   "source": [
    "## test how pca transformation performs on real recipe ingredients"
   ]
  },
  {
   "cell_type": "code",
   "execution_count": null,
   "metadata": {},
   "outputs": [],
   "source": [
    "# check if real recipes transformation can be inverted successfully \n",
    "test = pca.inverse_transform(real_recipe)\n",
    "test = pd.DataFrame(test, columns = attributes)"
   ]
  },
  {
   "cell_type": "code",
   "execution_count": null,
   "metadata": {},
   "outputs": [],
   "source": [
    "# extract all ingredients that are contained in fake recipe (to check performance of pca approsimately)\n",
    "for row in test.values:\n",
    "    bla = []\n",
    "    for column_num, value in enumerate(row):\n",
    "        if value >= prob_contained:\n",
    "            bla.append(attributes[column_num])\n",
    "print('transformed:', bla, '\\noriginal:', input_ingredients)\n",
    "print(len(bla), len(input_ingredients))"
   ]
  },
  {
   "attachments": {},
   "cell_type": "markdown",
   "metadata": {},
   "source": [
    "## Adjust formats"
   ]
  },
  {
   "cell_type": "code",
   "execution_count": null,
   "metadata": {},
   "outputs": [],
   "source": [
    "# merge tensors to one tensor and shuffle recipes\n",
    "dataset = tf.data.Dataset.from_tensor_slices((df_features, df_labels))\n",
    "dataset = dataset.shuffle(buffer_size = 1024).batch(batch_size)\n",
    "\n",
    "# convert real_recipe to tensor\n",
    "real_recipe_tf = tf.cast(real_recipe, tf.float32)"
   ]
  },
  {
   "attachments": {},
   "cell_type": "markdown",
   "metadata": {},
   "source": [
    "# Conditional GAN model"
   ]
  },
  {
   "attachments": {},
   "cell_type": "markdown",
   "metadata": {},
   "source": [
    "## Discriminator"
   ]
  },
  {
   "cell_type": "code",
   "execution_count": null,
   "metadata": {},
   "outputs": [],
   "source": [
    "# Create the discriminator.\n",
    "discriminator = keras.Sequential(\n",
    "    [\n",
    "        keras.layers.InputLayer((df_features.shape[1], discriminator_in_channels)),\n",
    "        layers.Conv1D(df_features.shape[1]*2, 3, strides = 2, padding = 'same'),\n",
    "        layers.LeakyReLU(alpha = 0.2),\n",
    "        layers.Conv1D(df_features.shape[1]*4, 3, strides = 2, padding = 'same'),\n",
    "        layers.LeakyReLU(alpha=0.2),\n",
    "        layers.GlobalMaxPooling1D(),\n",
    "        layers.Dense(1),\n",
    "    ], \n",
    "    name = 'discriminator'\n",
    ")"
   ]
  },
  {
   "attachments": {},
   "cell_type": "markdown",
   "metadata": {},
   "source": [
    "## Generator"
   ]
  },
  {
   "cell_type": "code",
   "execution_count": null,
   "metadata": {},
   "outputs": [],
   "source": [
    "# Create the generator.\n",
    "generator = keras.Sequential(\n",
    "    [\n",
    "        keras.layers.InputLayer((generator_in_channels,)),\n",
    "        # We want to generate 128 + num_classes coefficients to reshape into a\n",
    "        # 7x7x(128 + num_classes) map.\n",
    "        layers.Dense(7 * generator_in_channels),\n",
    "        layers.LeakyReLU(alpha=0.2),\n",
    "        layers.Reshape((7, generator_in_channels)),\n",
    "        layers.Conv1DTranspose(12, 12, strides=2, padding=\"valid\"),\n",
    "        layers.LeakyReLU(alpha=0.2),\n",
    "        layers.Conv1DTranspose(12, 12, strides=2, padding=\"valid\"),\n",
    "        layers.LeakyReLU(alpha=0.2),\n",
    "        layers.Conv1DTranspose(12, 10, strides=2, padding=\"valid\"),\n",
    "        layers.LeakyReLU(alpha=0.2),\n",
    "        layers.Conv1DTranspose(12, 10, strides=2, padding=\"valid\"),\n",
    "        layers.LeakyReLU(alpha=0.2),\n",
    "        layers.Conv1D(1, 1, padding=\"valid\", activation=\"sigmoid\"),\n",
    "    ],\n",
    "    name=\"generator\",\n",
    ")"
   ]
  },
  {
   "attachments": {},
   "cell_type": "markdown",
   "metadata": {},
   "source": [
    "## Whole CGAN"
   ]
  },
  {
   "cell_type": "code",
   "execution_count": null,
   "metadata": {},
   "outputs": [],
   "source": [
    "class ConditionalGAN(keras.Model):\n",
    "    def __init__(self, discriminator, generator, latent_dim):\n",
    "        super().__init__()\n",
    "        self.discriminator = discriminator\n",
    "        self.generator = generator\n",
    "        self.latent_dim = latent_dim\n",
    "        self.gen_loss_tracker = keras.metrics.Mean(name=\"generator_loss\")\n",
    "        self.disc_loss_tracker = keras.metrics.Mean(name=\"discriminator_loss\")\n",
    "\n",
    "    @property\n",
    "    def metrics(self):\n",
    "        return [self.gen_loss_tracker, self.disc_loss_tracker]\n",
    "\n",
    "    def compile(self, d_optimizer, g_optimizer, loss_fn):\n",
    "        super().compile()\n",
    "        self.d_optimizer = d_optimizer\n",
    "        self.g_optimizer = g_optimizer\n",
    "        self.loss_fn = loss_fn\n",
    "\n",
    "    def train_step(self, data):\n",
    "        # Unpack the data.\n",
    "        real_recipes, one_hot_labels = data\n",
    "        real_recipes = tf.cast(real_recipes, tf.float32)\n",
    "        one_hot_labels = tf.cast(one_hot_labels, tf.float32)\n",
    "        real_recipes = tf.reshape(\n",
    "            real_recipes, [-1, feature_size, 1]\n",
    "        )\n",
    "        print('needed dimension for generator output: ',  feature_size)\n",
    "        \n",
    "        # Add dummy dimensions to the labels so that they can be concatenated with\n",
    "        # the recipes. This is for the discriminator.\n",
    "        recipe_one_hot_labels = one_hot_labels[:, :, None]\n",
    "        recipe_one_hot_labels = tf.repeat(\n",
    "            recipe_one_hot_labels, repeats=[feature_size]\n",
    "        )\n",
    "        recipe_one_hot_labels = tf.reshape(\n",
    "            recipe_one_hot_labels, (-1, feature_size, num_classes)\n",
    "        )\n",
    "\n",
    "        # Sample random points in the latent space and concatenate the labels.\n",
    "        # This is for the generator.\n",
    "        batch_size = tf.shape(real_recipes)[0]\n",
    "        random_latent_vectors = tf.random.normal(shape=(batch_size, self.latent_dim))\n",
    "        random_vector_labels = tf.concat(\n",
    "            [random_latent_vectors, one_hot_labels], axis=1\n",
    "        )\n",
    "        \n",
    "        # Decode the noise (guided by labels) to fake recipes.\n",
    "        generated_recipes = self.generator(random_vector_labels)\n",
    "\n",
    "        # Combine them with real recipes. Note that we are concatenating the labels\n",
    "        # with these recipes here.\n",
    "        print('current dimension at generator output: ', generated_recipes.shape[1])\n",
    "        fake_recipe_and_labels = tf.concat([generated_recipes, recipe_one_hot_labels], -1)\n",
    "        real_recipe_and_labels = tf.concat([real_recipes, recipe_one_hot_labels], -1)\n",
    "        combined_recipes = tf.concat(\n",
    "            [fake_recipe_and_labels, real_recipe_and_labels], axis=0\n",
    "        )\n",
    "\n",
    "        # Assemble labels discriminating real from fake recipes.\n",
    "        labels = tf.concat(\n",
    "            [tf.ones((batch_size, 1)), tf.zeros((batch_size, 1))], axis=0\n",
    "        )\n",
    "        \n",
    "        # Train the discriminator.\n",
    "        with tf.GradientTape() as tape:\n",
    "            predictions = self.discriminator(combined_recipes)\n",
    "            d_loss = self.loss_fn(labels, predictions)\n",
    "        grads = tape.gradient(d_loss, self.discriminator.trainable_weights)\n",
    "        self.d_optimizer.apply_gradients(\n",
    "            zip(grads, self.discriminator.trainable_weights)\n",
    "        )\n",
    "\n",
    "        # Sample random points in the latent space.\n",
    "        random_latent_vectors = tf.random.normal(shape=(batch_size, self.latent_dim))\n",
    "        random_vector_labels = tf.concat(\n",
    "            [random_latent_vectors, one_hot_labels], axis=1\n",
    "        )\n",
    "\n",
    "        # Assemble labels that say \"all real recipes\".\n",
    "        misleading_labels = tf.zeros((batch_size, 1))\n",
    "\n",
    "        # Train the generator (note that we should *not* update the weights\n",
    "        # of the discriminator)!\n",
    "        with tf.GradientTape() as tape:\n",
    "            fake_recipes = self.generator(random_vector_labels)\n",
    "            fake_recipe_and_labels = tf.concat([fake_recipes, recipe_one_hot_labels], -1)\n",
    "            predictions = self.discriminator(fake_recipe_and_labels)\n",
    "            g_loss = self.loss_fn(misleading_labels, predictions)\n",
    "        grads = tape.gradient(g_loss, self.generator.trainable_weights)\n",
    "        self.g_optimizer.apply_gradients(zip(grads, self.generator.trainable_weights))\n",
    "\n",
    "        # Monitor loss.\n",
    "        self.gen_loss_tracker.update_state(g_loss)\n",
    "        self.disc_loss_tracker.update_state(d_loss)\n",
    "        return {\n",
    "            \"g_loss\": self.gen_loss_tracker.result(),\n",
    "            \"d_loss\": self.disc_loss_tracker.result(),\n",
    "        }"
   ]
  },
  {
   "attachments": {},
   "cell_type": "markdown",
   "metadata": {},
   "source": [
    "## Training"
   ]
  },
  {
   "cell_type": "code",
   "execution_count": null,
   "metadata": {},
   "outputs": [],
   "source": [
    "cond_gan = ConditionalGAN(\n",
    "    discriminator=discriminator, generator=generator, latent_dim=latent_dim\n",
    ")\n",
    "cond_gan.compile(\n",
    "    d_optimizer=keras.optimizers.Adam(learning_rate=0.0003),\n",
    "    g_optimizer=keras.optimizers.Adam(learning_rate=0.0003),\n",
    "    loss_fn=keras.losses.BinaryCrossentropy(from_logits=True),\n",
    ")\n",
    "\n",
    "cond_gan.fit(dataset, epochs=10)"
   ]
  },
  {
   "cell_type": "code",
   "execution_count": null,
   "metadata": {},
   "outputs": [],
   "source": [
    "# extract the trained generator from Conditional GAN.\n",
    "trained_gen = cond_gan.generator"
   ]
  },
  {
   "attachments": {},
   "cell_type": "markdown",
   "metadata": {},
   "source": [
    "# Find input recipe in latent space by trying randomly"
   ]
  },
  {
   "cell_type": "code",
   "execution_count": null,
   "metadata": {},
   "outputs": [],
   "source": [
    "import time\n",
    "timeout = time.time() + 60*1   # x minutes from now\n",
    "seed = 1\n",
    "while True: \n",
    "    # generate random latent_representation\n",
    "    random_representation = tf.random.Generator.from_seed(seed = 1).normal(shape=(1, latent_dim))\n",
    "    label = keras.utils.to_categorical([start_class], num_classes)\n",
    "    random_recipe = tf.concat([random_representation, label], 1)\n",
    "    random_recipe = trained_gen.predict(random_recipe)\n",
    "    random_recipe = random_recipe.reshape(1, feature_size)\n",
    "    random_recipe = np.float32(random_recipe)\n",
    "    \n",
    "    # check if random recipe and real recipe are similar\n",
    "    equal = np.allclose(random_recipe, real_recipe, rtol = 1)\n",
    "    seed += 1\n",
    "    if time.time() > timeout: \n",
    "        print('no latent representation found', seed)\n",
    "        message = 'Sorry for the inconvenience. No latent representation could be found in an appropriate amount of time. Random ingredient used instead.'\n",
    "        break\n",
    "    if equal == True:\n",
    "        print('latent representation successfully found', seed)\n",
    "        message = None\n",
    "        break"
   ]
  },
  {
   "cell_type": "code",
   "execution_count": null,
   "metadata": {},
   "outputs": [],
   "source": [
    "equal"
   ]
  },
  {
   "attachments": {},
   "cell_type": "markdown",
   "metadata": {},
   "source": [
    "# Transformation of recipe in other class\n"
   ]
  },
  {
   "cell_type": "code",
   "execution_count": null,
   "metadata": {},
   "outputs": [],
   "source": [
    "# Choose the number of intermediate recipes that would be generated in\n",
    "# between the interpolation + 2 (first recipe and last recipe).\n",
    "num_interpolation = 9  # @param {type:\"integer\"}\n",
    "\n",
    "def interpolation_noise(repeats):\n",
    "    # Sample noise for the interpolation.\n",
    "    interpolation_noise = tf.random.normal(shape=(1, latent_dim))\n",
    "    interpolation_noise = tf.repeat(interpolation_noise, repeats=repeats)\n",
    "    interpolation_noise = tf.reshape(interpolation_noise, (repeats, latent_dim))\n",
    "    return interpolation_noise\n",
    "\n",
    "# insert latent representation of user input if latent representation by chance found\n",
    "if equal == True:\n",
    "    interpolation_noise = interpolation_noise(num_interpolation-1)\n",
    "    interpolation_noise = tf.concat([random_representation, interpolation_noise], 0)\n",
    "# if no latent representation of user input found --> use random start recipe\n",
    "if equal == False:\n",
    "    interpolation_noise = interpolation_noise(num_interpolation)\n",
    "\n",
    "def interpolate_class(first_number, second_number):\n",
    "    # Convert the start and end labels to one-hot encoded vectors.\n",
    "    first_label = keras.utils.to_categorical([first_number], num_classes)\n",
    "    second_label = keras.utils.to_categorical([second_number], num_classes)\n",
    "    first_label = tf.cast(first_label, tf.float32)\n",
    "    second_label = tf.cast(second_label, tf.float32)\n",
    "\n",
    "    # Calculate the interpolation vector between the two labels.\n",
    "    percent_second_label = tf.linspace(0, 1, num_interpolation)[:, None]\n",
    "    percent_second_label = tf.cast(percent_second_label, tf.float32)\n",
    "    interpolation_labels = (\n",
    "        first_label * (1 - percent_second_label) + second_label * percent_second_label\n",
    "    )\n",
    "\n",
    "    # Combine the noise and the labels and run inference with the generator.\n",
    "    noise_and_labels = tf.concat([interpolation_noise, interpolation_labels], 1)\n",
    "    fake = trained_gen.predict(noise_and_labels)\n",
    "    \n",
    "    return fake\n",
    "\n",
    "fake_recipes = interpolate_class(start_class, end_class)\n"
   ]
  },
  {
   "cell_type": "code",
   "execution_count": null,
   "metadata": {},
   "outputs": [],
   "source": [
    "# transform data back to original space (pca inverse) and put it into dataframe with original attributes\n",
    "fake_recipes = fake_recipes.reshape(num_interpolation, feature_size)\n",
    "fake_recipes = pca.inverse_transform(fake_recipes)\n",
    "fake_recipes = pd.DataFrame(fake_recipes, columns = attributes)"
   ]
  },
  {
   "cell_type": "code",
   "execution_count": null,
   "metadata": {},
   "outputs": [],
   "source": [
    "# extract all ingredients that are contained in fake recipe (approach: every ingredient contained with value >= 0.5)\n",
    "recipes = []\n",
    "for row in fake_recipes.values:\n",
    "    recipe = []\n",
    "    for column_num, value in enumerate(row):\n",
    "        if value >= prob_contained:\n",
    "            recipe.append(attributes[column_num])\n",
    "    recipes.append(recipe)"
   ]
  },
  {
   "cell_type": "code",
   "execution_count": null,
   "metadata": {},
   "outputs": [],
   "source": [
    "# interpolation steps\n",
    "for recipe in recipes:\n",
    "    print(recipe)"
   ]
  },
  {
   "attachments": {},
   "cell_type": "markdown",
   "metadata": {},
   "source": [
    "# USER OUTPUT "
   ]
  },
  {
   "cell_type": "code",
   "execution_count": null,
   "metadata": {},
   "outputs": [],
   "source": [
    "# if user wants to convert given recipe into another class\n",
    "if message != None:\n",
    "    print(message)\n",
    "    print('\\nThe randomly generated recipe is\\n', recipes[0], '\\n\\nthat is labeled', input_source_category, 'is now transformed into a', input_target_category, 'recipe. \\n\\nThe following recipe is your transformed recipe:\\n', recipes[-1])\n",
    "else:\n",
    "    print('Your original recipe\\n', input_ingredients, '\\n\\nthat you have labeled', input_source_category, 'is now transformed into a', input_target_category, 'recipe. \\n\\nThe following recipe is your transformed recipe:\\n', recipes[-1])"
   ]
  },
  {
   "cell_type": "code",
   "execution_count": null,
   "metadata": {},
   "outputs": [],
   "source": [
    "# if user wants to generate random recipe of given class\n",
    "print('Your random', input_target_category, 'recipe: ', recipes[-1])"
   ]
  },
  {
   "cell_type": "code",
   "execution_count": null,
   "metadata": {},
   "outputs": [],
   "source": [
    "print('Your original recipe\\n', input_ingredients, '\\n\\nthat you have labeled', input_source_category, 'is now transformed into a', input_target_category, 'recipe. \\n\\nThe following recipe is your transformed recipe:\\n', recipes[-1])"
   ]
  },
  {
   "cell_type": "code",
   "execution_count": null,
   "metadata": {},
   "outputs": [],
   "source": [
    "# output for developer \n",
    "print('original recipe\\n', input_ingredients, '\\nlatent recipe:\\n', recipes[0], '\\ntransformed recipe:\\n', recipes[-1])"
   ]
  },
  {
   "cell_type": "markdown",
   "metadata": {},
   "source": [
    "# plot model to file"
   ]
  },
  {
   "cell_type": "code",
   "execution_count": null,
   "metadata": {},
   "outputs": [],
   "source": [
    "tf.keras.utils.plot_model(\n",
    "    generator,\n",
    "    to_file=\"generator.png\",\n",
    "    show_shapes=True,\n",
    "    show_dtype=False,\n",
    "    show_layer_names=False,\n",
    "    rankdir=\"TB\",\n",
    "    expand_nested=False,\n",
    "    dpi=96,\n",
    "    layer_range=None,\n",
    "    show_layer_activations=False,\n",
    "    show_trainable=False,\n",
    ")"
   ]
  },
  {
   "attachments": {},
   "cell_type": "markdown",
   "metadata": {},
   "source": [
    "# sources "
   ]
  },
  {
   "attachments": {},
   "cell_type": "markdown",
   "metadata": {},
   "source": [
    "description of convoluation and transposed convolution layers: https://towardsdatascience.com/understand-transposed-convolutions-and-build-your-own-transposed-convolution-layer-from-scratch-4f5d97b2967\n",
    "\n",
    "example code: https://keras.io/examples/generative/conditional_gan/ (changed from 2d use case to 1d use case)\n",
    "\n",
    "Balancing Generator and Discriminator: https://arxiv.org/pdf/1701.00160.pdf  p.33"
   ]
  }
 ],
 "metadata": {
  "kernelspec": {
   "display_name": "AML_Scherer",
   "language": "python",
   "name": "python3"
  },
  "language_info": {
   "codemirror_mode": {
    "name": "ipython",
    "version": 3
   },
   "file_extension": ".py",
   "mimetype": "text/x-python",
   "name": "python",
   "nbconvert_exporter": "python",
   "pygments_lexer": "ipython3",
   "version": "3.9.10"
  },
  "orig_nbformat": 4
 },
 "nbformat": 4,
 "nbformat_minor": 2
}
