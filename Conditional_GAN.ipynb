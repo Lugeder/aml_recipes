{
 "cells": [
  {
   "attachments": {},
   "cell_type": "markdown",
   "metadata": {},
   "source": [
    "code based on: https://keras.io/examples/generative/conditional_gan/ (original version: 2d data, converted to 1d data)"
   ]
  },
  {
   "attachments": {},
   "cell_type": "markdown",
   "metadata": {},
   "source": [
    "# imports"
   ]
  },
  {
   "cell_type": "code",
   "execution_count": 100,
   "metadata": {},
   "outputs": [],
   "source": [
    "import os\n",
    "import pandas as pd\n",
    "import ast\n",
    "import numpy as np\n",
    "import tensorflow as tf\n",
    "from tensorflow import keras\n",
    "from keras import layers\n",
    "from sklearn.decomposition import PCA"
   ]
  },
  {
   "cell_type": "code",
   "execution_count": 101,
   "metadata": {},
   "outputs": [],
   "source": [
    "dir = os.getcwd()\n",
    "df_features = pd.read_csv(dir + r'\\data\\df_features.csv')\n",
    "df_labels = pd.read_csv(dir + r'\\data\\df_labels.csv')"
   ]
  },
  {
   "attachments": {},
   "cell_type": "markdown",
   "metadata": {},
   "source": [
    "# USER INPUT"
   ]
  },
  {
   "cell_type": "code",
   "execution_count": 102,
   "metadata": {},
   "outputs": [],
   "source": [
    "input_ingredients = [['salt', 'sugar']]\n",
    "input_source_category = 'vegan' # possible values: vegan, vegetarian or classic\n",
    "input_target_category = 'classic'"
   ]
  },
  {
   "attachments": {},
   "cell_type": "markdown",
   "metadata": {},
   "source": [
    "# constants and hyperparameters"
   ]
  },
  {
   "cell_type": "code",
   "execution_count": 103,
   "metadata": {},
   "outputs": [],
   "source": [
    "batch_size = 4\n",
    "num_channels = 1\n",
    "num_classes = 3\n",
    "\n",
    "latent_dim = 128\n",
    "feature_size = 128\n",
    "# if one or both of these dimensionalities are changed, generator layers have to be adjusted\n",
    "\n",
    "prob_contained = 0.5 # Threshold value of the probability that an ingredient is included in the fake recipe, from when it is taken into account"
   ]
  },
  {
   "cell_type": "code",
   "execution_count": 104,
   "metadata": {},
   "outputs": [],
   "source": [
    "# labels \n",
    "label_encodings = {\n",
    "    'vegan': 0,\n",
    "    'vegetarian': 1,\n",
    "    'classic': 2\n",
    "}"
   ]
  },
  {
   "attachments": {},
   "cell_type": "markdown",
   "metadata": {},
   "source": [
    "# calculating numbers"
   ]
  },
  {
   "cell_type": "code",
   "execution_count": 105,
   "metadata": {},
   "outputs": [
    {
     "name": "stdout",
     "output_type": "stream",
     "text": [
      "131 4\n"
     ]
    }
   ],
   "source": [
    "generator_in_channels = latent_dim + num_classes\n",
    "discriminator_in_channels = num_channels + num_classes\n",
    "print(generator_in_channels, discriminator_in_channels)"
   ]
  },
  {
   "cell_type": "code",
   "execution_count": 106,
   "metadata": {},
   "outputs": [],
   "source": [
    "# number of features after preprocessing\n",
    "# has to be manually adjusted for output layer of generator\n",
    "# feature_size = df_features.shape[1]"
   ]
  },
  {
   "cell_type": "code",
   "execution_count": 107,
   "metadata": {},
   "outputs": [],
   "source": [
    "# preprare list of attributes for transforming values of fake recipes to real ingredient names\n",
    "attributes = list(df_features.columns)"
   ]
  },
  {
   "attachments": {},
   "cell_type": "markdown",
   "metadata": {},
   "source": [
    "# preprocessing"
   ]
  },
  {
   "attachments": {},
   "cell_type": "markdown",
   "metadata": {},
   "source": [
    "## user input "
   ]
  },
  {
   "cell_type": "code",
   "execution_count": 108,
   "metadata": {},
   "outputs": [],
   "source": [
    "# one hot encode real recipe into dataframe with same structure as training dataframe\n",
    "real_recipe = []\n",
    "for ingredient in attributes: \n",
    "    if ingredient in input_ingredients:\n",
    "        real_recipe.append(1)\n",
    "    else: \n",
    "        real_recipe.append(0)"
   ]
  },
  {
   "cell_type": "code",
   "execution_count": 109,
   "metadata": {},
   "outputs": [],
   "source": [
    "# transform input labels to categorical \n",
    "for label in label_encodings: \n",
    "    if input_source_category == label:\n",
    "        start_class = label_encodings[label]\n",
    "    if input_target_category == label:\n",
    "        end_class = label_encodings[label]"
   ]
  },
  {
   "attachments": {},
   "cell_type": "markdown",
   "metadata": {},
   "source": [
    "## PCA"
   ]
  },
  {
   "cell_type": "code",
   "execution_count": 110,
   "metadata": {},
   "outputs": [],
   "source": [
    "# convert dataframes to numpy arrays\n",
    "df_features = pd.DataFrame(df_features).to_numpy()\n",
    "df_labels = df_labels.to_numpy()\n",
    "\n",
    "# convert list of real recipe to numpy array\n",
    "real_recipe = np.array(real_recipe).reshape(1,len(attributes))"
   ]
  },
  {
   "cell_type": "code",
   "execution_count": 111,
   "metadata": {},
   "outputs": [
    {
     "data": {
      "text/plain": [
       "(1000, 1850)"
      ]
     },
     "execution_count": 111,
     "metadata": {},
     "output_type": "execute_result"
    }
   ],
   "source": [
    "df_features.shape"
   ]
  },
  {
   "cell_type": "code",
   "execution_count": 112,
   "metadata": {},
   "outputs": [],
   "source": [
    "# dimensionality reduction of training data \n",
    "# check if n_samples >= n_features (only then mle can be used)\n",
    "if df_features.shape[0] >= df_features.shape[1]:\n",
    "    pca = PCA(n_components = 'mle') # mle: automatic choice of target dimensionality\n",
    "    # fit the model and perform dimensionality reduction\n",
    "    df_features = pca.fit_transform(df_features)\n",
    "    # adjust feature_size \n",
    "    feature_size = df_features.shape[1]\n",
    "    \n",
    "else: \n",
    "    pca = PCA(n_components = feature_size)\n",
    "    # fit the model and perform dimensionality reduction\n",
    "    df_features = pca.fit_transform(df_features)\n",
    "    \n",
    "# dimensionality reduction of real recipe\n",
    "real_recipe = pca.transform(real_recipe)"
   ]
  },
  {
   "cell_type": "code",
   "execution_count": 113,
   "metadata": {},
   "outputs": [],
   "source": [
    "# pca.get_covariance()"
   ]
  },
  {
   "attachments": {},
   "cell_type": "markdown",
   "metadata": {},
   "source": [
    "## adjust format "
   ]
  },
  {
   "cell_type": "code",
   "execution_count": 114,
   "metadata": {},
   "outputs": [],
   "source": [
    "# merge tensors to one tensor and shuffle recipes\n",
    "dataset = tf.data.Dataset.from_tensor_slices((df_features, df_labels))\n",
    "dataset = dataset.shuffle(buffer_size = 1024).batch(batch_size)\n",
    "\n",
    "# convert real_recipe to tensor\n",
    "real_recipe = tf.cast(real_recipe, tf.float32)"
   ]
  },
  {
   "attachments": {},
   "cell_type": "markdown",
   "metadata": {},
   "source": [
    "# Create conditional GAN model"
   ]
  },
  {
   "cell_type": "code",
   "execution_count": 115,
   "metadata": {},
   "outputs": [],
   "source": [
    "# Create the discriminator.\n",
    "discriminator = keras.Sequential(\n",
    "    [\n",
    "        keras.layers.InputLayer((df_features.shape[1], discriminator_in_channels)),\n",
    "        layers.Conv1D(df_features.shape[1]*2, 3, strides = 2, padding = 'same'),\n",
    "        layers.LeakyReLU(alpha = 0.2),\n",
    "        layers.Conv1D(df_features.shape[1]*4, 3, strides = 2, padding = 'same'),\n",
    "        layers.LeakyReLU(alpha=0.2),\n",
    "        layers.GlobalMaxPooling1D(),\n",
    "        layers.Dense(1),\n",
    "    ], \n",
    "    name = 'discriminator'\n",
    ")"
   ]
  },
  {
   "cell_type": "code",
   "execution_count": 116,
   "metadata": {},
   "outputs": [],
   "source": [
    "# Create the generator.\n",
    "generator = keras.Sequential(\n",
    "    [\n",
    "        keras.layers.InputLayer((generator_in_channels,)),\n",
    "        # We want to generate 128 + num_classes coefficients to reshape into a\n",
    "        # 7x7x(128 + num_classes) map.\n",
    "        layers.Dense(7 * generator_in_channels),\n",
    "        layers.LeakyReLU(alpha=0.2),\n",
    "        layers.Reshape((7, generator_in_channels)),\n",
    "        layers.Conv1DTranspose(128, 13, strides=2, padding=\"valid\"),\n",
    "        layers.LeakyReLU(alpha=0.2),\n",
    "        layers.Conv1DTranspose(128, 12, strides=2, padding=\"valid\"),\n",
    "        layers.LeakyReLU(alpha=0.2),\n",
    "        # layers.Conv1DTranspose(128, 11, strides=2, padding=\"valid\"),\n",
    "        # layers.LeakyReLU(alpha=0.2),\n",
    "        # layers.Conv1DTranspose(128, 9, strides=2, padding=\"valid\"),\n",
    "        # layers.LeakyReLU(alpha=0.2),\n",
    "        # layers.Conv1DTranspose(128, 12, strides=2, padding=\"valid\"),\n",
    "        # layers.LeakyReLU(alpha=0.2),\n",
    "        # layers.Conv1DTranspose(128, 10, strides=2, padding=\"valid\"),\n",
    "        # layers.LeakyReLU(alpha=0.2),\n",
    "        layers.Conv1DTranspose(128, 10, strides=2, padding=\"valid\"),\n",
    "        layers.LeakyReLU(alpha=0.2),\n",
    "        layers.Conv1D(1, 1, padding=\"valid\", activation=\"sigmoid\"),\n",
    "    ],\n",
    "    name=\"generator\",\n",
    ")"
   ]
  },
  {
   "cell_type": "code",
   "execution_count": 117,
   "metadata": {},
   "outputs": [],
   "source": [
    "class ConditionalGAN(keras.Model):\n",
    "    def __init__(self, discriminator, generator, latent_dim):\n",
    "        super().__init__()\n",
    "        self.discriminator = discriminator\n",
    "        self.generator = generator\n",
    "        self.latent_dim = latent_dim\n",
    "        self.gen_loss_tracker = keras.metrics.Mean(name=\"generator_loss\")\n",
    "        self.disc_loss_tracker = keras.metrics.Mean(name=\"discriminator_loss\")\n",
    "\n",
    "    @property\n",
    "    def metrics(self):\n",
    "        return [self.gen_loss_tracker, self.disc_loss_tracker]\n",
    "\n",
    "    def compile(self, d_optimizer, g_optimizer, loss_fn):\n",
    "        super().compile()\n",
    "        self.d_optimizer = d_optimizer\n",
    "        self.g_optimizer = g_optimizer\n",
    "        self.loss_fn = loss_fn\n",
    "\n",
    "    def train_step(self, data):\n",
    "        # Unpack the data.\n",
    "        real_recipes, one_hot_labels = data\n",
    "        real_recipes = tf.cast(real_recipes, tf.float32)\n",
    "        one_hot_labels = tf.cast(one_hot_labels, tf.float32)\n",
    "        real_recipes = tf.reshape(\n",
    "            real_recipes, [-1, feature_size, 1]\n",
    "        )\n",
    "        print('needed dimension for generator output: ',  feature_size)\n",
    "        \n",
    "        # Add dummy dimensions to the labels so that they can be concatenated with\n",
    "        # the recipes. This is for the discriminator.\n",
    "        recipe_one_hot_labels = one_hot_labels[:, :, None]\n",
    "        recipe_one_hot_labels = tf.repeat(\n",
    "            recipe_one_hot_labels, repeats=[feature_size]\n",
    "        )\n",
    "        recipe_one_hot_labels = tf.reshape(\n",
    "            recipe_one_hot_labels, (-1, feature_size, num_classes)\n",
    "        )\n",
    "\n",
    "        # Sample random points in the latent space and concatenate the labels.\n",
    "        # This is for the generator.\n",
    "        batch_size = tf.shape(real_recipes)[0]\n",
    "        random_latent_vectors = tf.random.normal(shape=(batch_size, self.latent_dim))\n",
    "        random_vector_labels = tf.concat(\n",
    "            [random_latent_vectors, one_hot_labels], axis=1\n",
    "        )\n",
    "        \n",
    "        # Decode the noise (guided by labels) to fake recipes.\n",
    "        generated_recipes = self.generator(random_vector_labels)\n",
    "\n",
    "        # Combine them with real recipes. Note that we are concatenating the labels\n",
    "        # with these recipes here.\n",
    "        print('current dimension at generator output: ', generated_recipes.shape[1])\n",
    "        fake_recipe_and_labels = tf.concat([generated_recipes, recipe_one_hot_labels], -1)\n",
    "        real_recipe_and_labels = tf.concat([real_recipes, recipe_one_hot_labels], -1)\n",
    "        combined_recipes = tf.concat(\n",
    "            [fake_recipe_and_labels, real_recipe_and_labels], axis=0\n",
    "        )\n",
    "\n",
    "        # Assemble labels discriminating real from fake recipes.\n",
    "        labels = tf.concat(\n",
    "            [tf.ones((batch_size, 1)), tf.zeros((batch_size, 1))], axis=0\n",
    "        )\n",
    "        \n",
    "        # Train the discriminator.\n",
    "        with tf.GradientTape() as tape:\n",
    "            predictions = self.discriminator(combined_recipes)\n",
    "            d_loss = self.loss_fn(labels, predictions)\n",
    "        grads = tape.gradient(d_loss, self.discriminator.trainable_weights)\n",
    "        self.d_optimizer.apply_gradients(\n",
    "            zip(grads, self.discriminator.trainable_weights)\n",
    "        )\n",
    "\n",
    "        # Sample random points in the latent space.\n",
    "        random_latent_vectors = tf.random.normal(shape=(batch_size, self.latent_dim))\n",
    "        random_vector_labels = tf.concat(\n",
    "            [random_latent_vectors, one_hot_labels], axis=1\n",
    "        )\n",
    "\n",
    "        # Assemble labels that say \"all real recipes\".\n",
    "        misleading_labels = tf.zeros((batch_size, 1))\n",
    "\n",
    "        # Train the generator (note that we should *not* update the weights\n",
    "        # of the discriminator)!\n",
    "        with tf.GradientTape() as tape:\n",
    "            fake_recipes = self.generator(random_vector_labels)\n",
    "            fake_recipe_and_labels = tf.concat([fake_recipes, recipe_one_hot_labels], -1)\n",
    "            predictions = self.discriminator(fake_recipe_and_labels)\n",
    "            g_loss = self.loss_fn(misleading_labels, predictions)\n",
    "        grads = tape.gradient(g_loss, self.generator.trainable_weights)\n",
    "        self.g_optimizer.apply_gradients(zip(grads, self.generator.trainable_weights))\n",
    "\n",
    "        # Monitor loss.\n",
    "        self.gen_loss_tracker.update_state(g_loss)\n",
    "        self.disc_loss_tracker.update_state(d_loss)\n",
    "        return {\n",
    "            \"g_loss\": self.gen_loss_tracker.result(),\n",
    "            \"d_loss\": self.disc_loss_tracker.result(),\n",
    "        }"
   ]
  },
  {
   "attachments": {},
   "cell_type": "markdown",
   "metadata": {},
   "source": [
    "# Training Conditional GAN"
   ]
  },
  {
   "cell_type": "code",
   "execution_count": 118,
   "metadata": {},
   "outputs": [
    {
     "name": "stdout",
     "output_type": "stream",
     "text": [
      "Epoch 1/20\n"
     ]
    },
    {
     "name": "stdout",
     "output_type": "stream",
     "text": [
      "needed dimension for generator output:  128\n",
      "current dimension at generator output:  128\n",
      "needed dimension for generator output:  128\n",
      "current dimension at generator output:  128\n",
      "250/250 [==============================] - 5s 14ms/step - g_loss: 1.6223 - d_loss: 0.3539\n",
      "Epoch 2/20\n",
      "250/250 [==============================] - 4s 14ms/step - g_loss: 4.5128 - d_loss: 0.0150\n",
      "Epoch 3/20\n",
      "250/250 [==============================] - 4s 15ms/step - g_loss: 5.7602 - d_loss: 0.0037\n",
      "Epoch 4/20\n",
      "250/250 [==============================] - 4s 16ms/step - g_loss: 6.0713 - d_loss: 0.0022\n",
      "Epoch 5/20\n",
      "250/250 [==============================] - 4s 17ms/step - g_loss: 7.2210 - d_loss: 7.6307e-04\n",
      "Epoch 6/20\n",
      "250/250 [==============================] - 4s 18ms/step - g_loss: 7.6333 - d_loss: 5.1441e-04\n",
      "Epoch 7/20\n",
      "250/250 [==============================] - 4s 17ms/step - g_loss: 8.0706 - d_loss: 3.7693e-04\n",
      "Epoch 8/20\n",
      "250/250 [==============================] - 4s 17ms/step - g_loss: 8.3120 - d_loss: 3.3984e-04\n",
      "Epoch 9/20\n",
      "250/250 [==============================] - 4s 17ms/step - g_loss: 7.6411 - d_loss: 0.0065\n",
      "Epoch 10/20\n",
      "250/250 [==============================] - 4s 16ms/step - g_loss: 8.2195 - d_loss: 3.9723e-04\n",
      "Epoch 11/20\n",
      "250/250 [==============================] - 4s 16ms/step - g_loss: 8.8535 - d_loss: 1.8158e-04\n",
      "Epoch 12/20\n",
      "250/250 [==============================] - 4s 16ms/step - g_loss: 9.4375 - d_loss: 7.5680e-05\n",
      "Epoch 13/20\n",
      "250/250 [==============================] - 4s 17ms/step - g_loss: 9.1832 - d_loss: 9.5882e-05\n",
      "Epoch 14/20\n",
      "250/250 [==============================] - 4s 17ms/step - g_loss: 9.5059 - d_loss: 1.1088e-04\n",
      "Epoch 15/20\n",
      "250/250 [==============================] - 4s 17ms/step - g_loss: 10.1155 - d_loss: 4.7619e-05\n",
      "Epoch 16/20\n",
      "250/250 [==============================] - 4s 18ms/step - g_loss: 9.9963 - d_loss: 3.7119e-05\n",
      "Epoch 17/20\n",
      "250/250 [==============================] - 4s 17ms/step - g_loss: 10.2561 - d_loss: 3.1111e-05\n",
      "Epoch 18/20\n",
      "250/250 [==============================] - 4s 17ms/step - g_loss: 10.2131 - d_loss: 3.9350e-05\n",
      "Epoch 19/20\n",
      "250/250 [==============================] - 4s 16ms/step - g_loss: 10.7492 - d_loss: 2.1021e-05\n",
      "Epoch 20/20\n",
      "250/250 [==============================] - 4s 17ms/step - g_loss: 10.8162 - d_loss: 1.8959e-05\n"
     ]
    },
    {
     "data": {
      "text/plain": [
       "<keras.callbacks.History at 0x2a1b11ea7f0>"
      ]
     },
     "execution_count": 118,
     "metadata": {},
     "output_type": "execute_result"
    }
   ],
   "source": [
    "cond_gan = ConditionalGAN(\n",
    "    discriminator=discriminator, generator=generator, latent_dim=latent_dim\n",
    ")\n",
    "cond_gan.compile(\n",
    "    d_optimizer=keras.optimizers.Adam(learning_rate=0.0003),\n",
    "    g_optimizer=keras.optimizers.Adam(learning_rate=0.0003),\n",
    "    loss_fn=keras.losses.BinaryCrossentropy(from_logits=True),\n",
    "    # loss_fn=keras.losses.CategoricalCrossentropy(from_logits=True),\n",
    ")\n",
    "\n",
    "cond_gan.fit(dataset, epochs=20)"
   ]
  },
  {
   "attachments": {},
   "cell_type": "markdown",
   "metadata": {},
   "source": [
    "# transform recipe in other class\n"
   ]
  },
  {
   "cell_type": "code",
   "execution_count": 119,
   "metadata": {},
   "outputs": [
    {
     "name": "stdout",
     "output_type": "stream",
     "text": [
      "1/1 [==============================] - 0s 126ms/step\n"
     ]
    }
   ],
   "source": [
    "# extract the trained generator from Conditional GAN.\n",
    "trained_gen = cond_gan.generator\n",
    "\n",
    "# Choose the number of intermediate recipes that would be generated in\n",
    "# between the interpolation + 2 (first recipe and last recipe).\n",
    "num_interpolation = 9  # @param {type:\"integer\"}\n",
    "\n",
    "# Sample noise for the interpolation.\n",
    "interpolation_noise = tf.random.normal(shape=(1, latent_dim))\n",
    "# interpolation_noise = real_recipe\n",
    "interpolation_noise = tf.repeat(interpolation_noise, repeats=num_interpolation-1)\n",
    "interpolation_noise = tf.reshape(interpolation_noise, (num_interpolation-1, latent_dim))\n",
    "interpolation_noise = tf.concat([real_recipe, interpolation_noise], 0)\n",
    "\n",
    "def interpolate_class(first_number, second_number):\n",
    "    # Convert the start and end labels to one-hot encoded vectors.\n",
    "    first_label = keras.utils.to_categorical([first_number], num_classes)\n",
    "    second_label = keras.utils.to_categorical([second_number], num_classes)\n",
    "    first_label = tf.cast(first_label, tf.float32)\n",
    "    second_label = tf.cast(second_label, tf.float32)\n",
    "\n",
    "    # Calculate the interpolation vector between the two labels.\n",
    "    percent_second_label = tf.linspace(0, 1, num_interpolation)[:, None]\n",
    "    percent_second_label = tf.cast(percent_second_label, tf.float32)\n",
    "    interpolation_labels = (\n",
    "        first_label * (1 - percent_second_label) + second_label * percent_second_label\n",
    "    )\n",
    "\n",
    "    # Combine the noise and the labels and run inference with the generator.\n",
    "    noise_and_labels = tf.concat([interpolation_noise, interpolation_labels], 1)\n",
    "    fake = trained_gen.predict(noise_and_labels)\n",
    "    \n",
    "    return fake\n",
    "\n",
    "fake_recipes = interpolate_class(start_class, end_class)\n"
   ]
  },
  {
   "cell_type": "code",
   "execution_count": 99,
   "metadata": {},
   "outputs": [],
   "source": [
    "fake_recipes = tf.concat([real_recipe, real_recipe], 0)"
   ]
  },
  {
   "cell_type": "code",
   "execution_count": 88,
   "metadata": {},
   "outputs": [
    {
     "ename": "AttributeError",
     "evalue": "EagerTensor object has no attribute 'reshape'. \n        If you are looking for numpy-related methods, please run the following:\n        from tensorflow.python.ops.numpy_ops import np_config\n        np_config.enable_numpy_behavior()\n      ",
     "output_type": "error",
     "traceback": [
      "\u001b[1;31m---------------------------------------------------------------------------\u001b[0m",
      "\u001b[1;31mAttributeError\u001b[0m                            Traceback (most recent call last)",
      "Cell \u001b[1;32mIn[88], line 2\u001b[0m\n\u001b[0;32m      1\u001b[0m \u001b[39m# transform data back to original space (pca inverse) and put it into dataframe with original attributes\u001b[39;00m\n\u001b[1;32m----> 2\u001b[0m fake_recipes \u001b[39m=\u001b[39m fake_recipes\u001b[39m.\u001b[39;49mreshape(num_interpolation, latent_dim)\n\u001b[0;32m      3\u001b[0m fake_recipes \u001b[39m=\u001b[39m pca\u001b[39m.\u001b[39minverse_transform(fake_recipes)\n\u001b[0;32m      4\u001b[0m fake_recipes \u001b[39m=\u001b[39m pd\u001b[39m.\u001b[39mDataFrame(fake_recipes, columns \u001b[39m=\u001b[39m attributes)\n",
      "File \u001b[1;32mc:\\Users\\I539063\\Documents\\venvs\\DHBW_Semester_6\\AML_Scherer\\lib\\site-packages\\tensorflow\\python\\framework\\ops.py:437\u001b[0m, in \u001b[0;36mTensor.__getattr__\u001b[1;34m(self, name)\u001b[0m\n\u001b[0;32m    433\u001b[0m \u001b[39mdef\u001b[39;00m \u001b[39m__getattr__\u001b[39m(\u001b[39mself\u001b[39m, name):\n\u001b[0;32m    434\u001b[0m   \u001b[39mif\u001b[39;00m name \u001b[39min\u001b[39;00m {\u001b[39m\"\u001b[39m\u001b[39mT\u001b[39m\u001b[39m\"\u001b[39m, \u001b[39m\"\u001b[39m\u001b[39mastype\u001b[39m\u001b[39m\"\u001b[39m, \u001b[39m\"\u001b[39m\u001b[39mravel\u001b[39m\u001b[39m\"\u001b[39m, \u001b[39m\"\u001b[39m\u001b[39mtranspose\u001b[39m\u001b[39m\"\u001b[39m, \u001b[39m\"\u001b[39m\u001b[39mreshape\u001b[39m\u001b[39m\"\u001b[39m, \u001b[39m\"\u001b[39m\u001b[39mclip\u001b[39m\u001b[39m\"\u001b[39m, \u001b[39m\"\u001b[39m\u001b[39msize\u001b[39m\u001b[39m\"\u001b[39m,\n\u001b[0;32m    435\u001b[0m               \u001b[39m\"\u001b[39m\u001b[39mtolist\u001b[39m\u001b[39m\"\u001b[39m, \u001b[39m\"\u001b[39m\u001b[39mdata\u001b[39m\u001b[39m\"\u001b[39m}:\n\u001b[0;32m    436\u001b[0m     \u001b[39m# TODO(wangpeng): Export the enable_numpy_behavior knob\u001b[39;00m\n\u001b[1;32m--> 437\u001b[0m     \u001b[39mraise\u001b[39;00m \u001b[39mAttributeError\u001b[39;00m(\n\u001b[0;32m    438\u001b[0m         \u001b[39mf\u001b[39m\u001b[39m\"\u001b[39m\u001b[39m{\u001b[39;00m\u001b[39mtype\u001b[39m(\u001b[39mself\u001b[39m)\u001b[39m.\u001b[39m\u001b[39m__name__\u001b[39m\u001b[39m}\u001b[39;00m\u001b[39m object has no attribute \u001b[39m\u001b[39m'\u001b[39m\u001b[39m{\u001b[39;00mname\u001b[39m}\u001b[39;00m\u001b[39m'\u001b[39m\u001b[39m. \u001b[39m\u001b[39m\"\u001b[39m \u001b[39m+\u001b[39m \u001b[39m\"\"\"\u001b[39m\n\u001b[0;32m    439\u001b[0m \u001b[39m      If you are looking for numpy-related methods, please run the following:\u001b[39m\n\u001b[0;32m    440\u001b[0m \u001b[39m      from tensorflow.python.ops.numpy_ops import np_config\u001b[39m\n\u001b[0;32m    441\u001b[0m \u001b[39m      np_config.enable_numpy_behavior()\u001b[39m\n\u001b[0;32m    442\u001b[0m \u001b[39m    \u001b[39m\u001b[39m\"\"\"\u001b[39m)\n\u001b[0;32m    443\u001b[0m   \u001b[39mself\u001b[39m\u001b[39m.\u001b[39m\u001b[39m__getattribute__\u001b[39m(name)\n",
      "\u001b[1;31mAttributeError\u001b[0m: EagerTensor object has no attribute 'reshape'. \n        If you are looking for numpy-related methods, please run the following:\n        from tensorflow.python.ops.numpy_ops import np_config\n        np_config.enable_numpy_behavior()\n      "
     ]
    }
   ],
   "source": [
    "# transform data back to original space (pca inverse) and put it into dataframe with original attributes\n",
    "fake_recipes = fake_recipes.reshape(num_interpolation, latent_dim)\n",
    "fake_recipes = pca.inverse_transform(fake_recipes)\n",
    "fake_recipes = pd.DataFrame(fake_recipes, columns = attributes)"
   ]
  },
  {
   "cell_type": "code",
   "execution_count": 84,
   "metadata": {},
   "outputs": [],
   "source": [
    "# extract all ingredients that are contained in fake recipe (approach: every ingredient contained with value >= 0.5)\n",
    "recipes = []\n",
    "for row in fake_recipes.values:\n",
    "    recipe = []\n",
    "    for column_num, value in enumerate(row):\n",
    "        if value >= prob_contained:\n",
    "            recipe.append(attributes[column_num])\n",
    "    recipes.append(recipe)"
   ]
  },
  {
   "attachments": {},
   "cell_type": "markdown",
   "metadata": {},
   "source": [
    "# USER OUTPUT "
   ]
  },
  {
   "cell_type": "code",
   "execution_count": 85,
   "metadata": {},
   "outputs": [
    {
     "data": {
      "text/plain": [
       "[[],\n",
       " [],\n",
       " ['butter'],\n",
       " ['butter', 'eggs', 'sugar'],\n",
       " ['butter', 'eggs', 'sugar'],\n",
       " ['butter', 'eggs', 'sugar'],\n",
       " ['butter', 'eggs', 'sugar'],\n",
       " ['butter', 'eggs', 'sugar'],\n",
       " ['butter', 'eggs', 'sugar']]"
      ]
     },
     "execution_count": 85,
     "metadata": {},
     "output_type": "execute_result"
    }
   ],
   "source": [
    "recipes"
   ]
  },
  {
   "cell_type": "code",
   "execution_count": null,
   "metadata": {},
   "outputs": [],
   "source": [
    "print('Original recipe: ', input_ingredients)"
   ]
  },
  {
   "cell_type": "code",
   "execution_count": 27,
   "metadata": {},
   "outputs": [
    {
     "data": {
      "text/plain": [
       "[[['salt', 'sugar']],\n",
       " [],\n",
       " [],\n",
       " ['butter', 'eggs', 'sugar'],\n",
       " ['butter', 'onion'],\n",
       " ['butter'],\n",
       " ['butter', 'eggs', 'sugar'],\n",
       " ['butter', 'eggs', 'sugar'],\n",
       " ['butter', 'eggs', 'sugar']]"
      ]
     },
     "execution_count": 27,
     "metadata": {},
     "output_type": "execute_result"
    }
   ],
   "source": [
    "recipes"
   ]
  },
  {
   "attachments": {},
   "cell_type": "markdown",
   "metadata": {},
   "source": [
    "# sources "
   ]
  },
  {
   "attachments": {},
   "cell_type": "markdown",
   "metadata": {},
   "source": [
    "description of convoluation and transposed convolution layers: https://towardsdatascience.com/understand-transposed-convolutions-and-build-your-own-transposed-convolution-layer-from-scratch-4f5d97b2967\n",
    "\n",
    "example code: https://keras.io/examples/generative/conditional_gan/ (changed from 2d use case to 1d use case)"
   ]
  }
 ],
 "metadata": {
  "kernelspec": {
   "display_name": "AML_Scherer",
   "language": "python",
   "name": "python3"
  },
  "language_info": {
   "codemirror_mode": {
    "name": "ipython",
    "version": 3
   },
   "file_extension": ".py",
   "mimetype": "text/x-python",
   "name": "python",
   "nbconvert_exporter": "python",
   "pygments_lexer": "ipython3",
   "version": "3.9.10"
  },
  "orig_nbformat": 4
 },
 "nbformat": 4,
 "nbformat_minor": 2
}
