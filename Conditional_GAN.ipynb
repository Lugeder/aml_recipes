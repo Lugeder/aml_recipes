{
 "cells": [
  {
   "attachments": {},
   "cell_type": "markdown",
   "metadata": {},
   "source": [
    "# Conditional GAN\n",
    "<!-- source of following section: https://machinelearningmastery.com/how-to-develop-a-conditional-generative-adversarial-network-from-scratch/ -->\n",
    "based on: https://keras.io/examples/generative/conditional_gan/ (original version: 2d data, converted to 1d data)"
   ]
  },
  {
   "attachments": {},
   "cell_type": "markdown",
   "metadata": {},
   "source": [
    "Comment: the encoder and the decoder always have to be adjusted regarding the dimensionality due to the variable number of features (ingredients)"
   ]
  },
  {
   "cell_type": "code",
   "execution_count": 30,
   "metadata": {},
   "outputs": [],
   "source": [
    "import os\n",
    "import pandas as pd\n",
    "import ast\n",
    "\n",
    "import tensorflow as tf\n",
    "from tensorflow import keras\n",
    "from keras import layers"
   ]
  },
  {
   "cell_type": "code",
   "execution_count": 21,
   "metadata": {},
   "outputs": [],
   "source": [
    "dir = os.getcwd()\n",
    "df_features = pd.read_csv(dir + r'\\data\\df_features.csv')\n",
    "df_labels = pd.read_csv(dir + r'\\data\\df_labels.csv')"
   ]
  },
  {
   "attachments": {},
   "cell_type": "markdown",
   "metadata": {},
   "source": [
    "## constants and hyperparameters"
   ]
  },
  {
   "cell_type": "code",
   "execution_count": null,
   "metadata": {},
   "outputs": [],
   "source": [
    "batch_size = 4\n",
    "num_channels = 1\n",
    "num_classes = 3\n",
    "feature_size = len(df.columns) - 2\n",
    "latent_dim = 300"
   ]
  },
  {
   "attachments": {},
   "cell_type": "markdown",
   "metadata": {},
   "source": [
    "## preprocessing"
   ]
  },
  {
   "cell_type": "code",
   "execution_count": null,
   "metadata": {},
   "outputs": [],
   "source": [
    "# preprare list of attributes for transforming values of fake recipes to real ingredient names\n",
    "attributes = list(df.columns)\n",
    "attributes.remove('label')\n",
    "attributes.remove('')"
   ]
  },
  {
   "cell_type": "code",
   "execution_count": null,
   "metadata": {},
   "outputs": [],
   "source": [
    "# convert features dataframe to numpy array\n",
    "# df_features = pd.DataFrame(df_features).to_numpy()"
   ]
  },
  {
   "cell_type": "code",
   "execution_count": null,
   "metadata": {},
   "outputs": [],
   "source": [
    "feature_tensor = (tf.convert_to_tensor(df_features))\n",
    "label_tensor = (tf.convert_to_tensor(df_labels))"
   ]
  },
  {
   "cell_type": "code",
   "execution_count": null,
   "metadata": {},
   "outputs": [],
   "source": [
    "dataset = tf.data.Dataset.from_tensor_slices((df_features, df_labels))\n",
    "dataset = dataset.shuffle(buffer_size = 1024).batch(batch_size)"
   ]
  },
  {
   "attachments": {},
   "cell_type": "markdown",
   "metadata": {},
   "source": [
    "## calculating numbers"
   ]
  },
  {
   "cell_type": "code",
   "execution_count": null,
   "metadata": {},
   "outputs": [],
   "source": [
    "generator_in_channels = latent_dim + num_classes\n",
    "discriminator_in_channels = num_channels + num_classes\n",
    "print(generator_in_channels, discriminator_in_channels)"
   ]
  },
  {
   "cell_type": "code",
   "execution_count": null,
   "metadata": {},
   "outputs": [],
   "source": [
    "# Create the discriminator.\n",
    "discriminator = keras.Sequential(\n",
    "    [\n",
    "        keras.layers.InputLayer((df_features.shape[1], discriminator_in_channels)),\n",
    "        layers.Conv1D(df_features.shape[1]*2, 3, strides = 2, padding = 'same'),\n",
    "        layers.LeakyReLU(alpha = 0.2),\n",
    "        layers.Conv1D(df_features.shape[1]*4, 3, strides = 2, padding = 'same'),\n",
    "        layers.LeakyReLU(alpha=0.2),\n",
    "        layers.GlobalMaxPooling1D(),\n",
    "        layers.Dense(1),\n",
    "    ], \n",
    "    name = 'discriminator'\n",
    ")"
   ]
  },
  {
   "cell_type": "code",
   "execution_count": null,
   "metadata": {},
   "outputs": [],
   "source": [
    "# Create the generator.\n",
    "generator = keras.Sequential(\n",
    "    [\n",
    "        keras.layers.InputLayer((generator_in_channels,)),\n",
    "        # We want to generate 128 + num_classes coefficients to reshape into a\n",
    "        # 7x7x(128 + num_classes) map.\n",
    "        layers.Dense(7 * generator_in_channels),\n",
    "        layers.LeakyReLU(alpha=0.2),\n",
    "        layers.Reshape((7, generator_in_channels)),\n",
    "        layers.Conv1DTranspose(128, 10, strides=2, padding=\"valid\"),\n",
    "        layers.LeakyReLU(alpha=0.2),\n",
    "        layers.Conv1DTranspose(128, 12, strides=2, padding=\"valid\"),\n",
    "        layers.LeakyReLU(alpha=0.2),\n",
    "        layers.Conv1DTranspose(128, 10, strides=2, padding=\"valid\"),\n",
    "        layers.LeakyReLU(alpha=0.2),\n",
    "        layers.Conv1DTranspose(128, 10, strides=2, padding=\"valid\"),\n",
    "        layers.LeakyReLU(alpha=0.2),\n",
    "        layers.Conv1DTranspose(128, 12, strides=2, padding=\"valid\"),\n",
    "        layers.LeakyReLU(alpha=0.2),\n",
    "        layers.Conv1DTranspose(128, 12, strides=2, padding=\"valid\"),\n",
    "        layers.LeakyReLU(alpha=0.2),\n",
    "        layers.Conv1DTranspose(128, 12, strides=2, padding=\"valid\"),\n",
    "        layers.LeakyReLU(alpha=0.2),\n",
    "        layers.Conv1D(1, 11, padding=\"valid\", activation=\"sigmoid\"),\n",
    "    ],\n",
    "    name=\"generator\",\n",
    ")"
   ]
  },
  {
   "attachments": {},
   "cell_type": "markdown",
   "metadata": {},
   "source": [
    "## Conditional GAN model"
   ]
  },
  {
   "cell_type": "code",
   "execution_count": null,
   "metadata": {},
   "outputs": [],
   "source": [
    "class ConditionalGAN(keras.Model):\n",
    "    def __init__(self, discriminator, generator, latent_dim):\n",
    "        super().__init__()\n",
    "        self.discriminator = discriminator\n",
    "        self.generator = generator\n",
    "        self.latent_dim = latent_dim\n",
    "        self.gen_loss_tracker = keras.metrics.Mean(name=\"generator_loss\")\n",
    "        self.disc_loss_tracker = keras.metrics.Mean(name=\"discriminator_loss\")\n",
    "\n",
    "    @property\n",
    "    def metrics(self):\n",
    "        return [self.gen_loss_tracker, self.disc_loss_tracker]\n",
    "\n",
    "    def compile(self, d_optimizer, g_optimizer, loss_fn):\n",
    "        super().compile()\n",
    "        self.d_optimizer = d_optimizer\n",
    "        self.g_optimizer = g_optimizer\n",
    "        self.loss_fn = loss_fn\n",
    "\n",
    "    def train_step(self, data):\n",
    "        # Unpack the data.\n",
    "        real_recipes, one_hot_labels = data\n",
    "        real_recipes = tf.cast(real_recipes, tf.float32)\n",
    "        real_recipes = tf.reshape(\n",
    "            real_recipes, [-1, feature_size, 1]\n",
    "        )\n",
    "        \n",
    "        # Add dummy dimensions to the labels so that they can be concatenated with\n",
    "        # the recipes. This is for the discriminator.\n",
    "        recipe_one_hot_labels = one_hot_labels[:, :, None]\n",
    "        recipe_one_hot_labels = tf.repeat(\n",
    "            recipe_one_hot_labels, repeats=[feature_size]\n",
    "        )\n",
    "        recipe_one_hot_labels = tf.reshape(\n",
    "            recipe_one_hot_labels, (-1, feature_size, num_classes)\n",
    "        )\n",
    "\n",
    "        # Sample random points in the latent space and concatenate the labels.\n",
    "        # This is for the generator.\n",
    "        batch_size = tf.shape(real_recipes)[0]\n",
    "        random_latent_vectors = tf.random.normal(shape=(batch_size, self.latent_dim))\n",
    "        random_vector_labels = tf.concat(\n",
    "            [random_latent_vectors, one_hot_labels], axis=1\n",
    "        )\n",
    "        \n",
    "        # Decode the noise (guided by labels) to fake recipes.\n",
    "        generated_recipes = self.generator(random_vector_labels)\n",
    "\n",
    "        # Combine them with real recipes. Note that we are concatenating the labels\n",
    "        # with these recipes here.\n",
    "        fake_recipe_and_labels = tf.concat([generated_recipes, recipe_one_hot_labels], -1)\n",
    "        # print(real_recipes)\n",
    "        # print(recipe_one_hot_labels)\n",
    "        real_recipe_and_labels = tf.concat([real_recipes, recipe_one_hot_labels], -1)\n",
    "        combined_recipes = tf.concat(\n",
    "            [fake_recipe_and_labels, real_recipe_and_labels], axis=0\n",
    "        )\n",
    "        \n",
    "\n",
    "        # Assemble labels discriminating real from fake recipes.\n",
    "        labels = tf.concat(\n",
    "            [tf.ones((batch_size, 1)), tf.zeros((batch_size, 1))], axis=0\n",
    "        )\n",
    "        \n",
    "        # Train the discriminator.\n",
    "        with tf.GradientTape() as tape:\n",
    "            predictions = self.discriminator(combined_recipes)\n",
    "            d_loss = self.loss_fn(labels, predictions)\n",
    "        grads = tape.gradient(d_loss, self.discriminator.trainable_weights)\n",
    "        self.d_optimizer.apply_gradients(\n",
    "            zip(grads, self.discriminator.trainable_weights)\n",
    "        )\n",
    "\n",
    "        # Sample random points in the latent space.\n",
    "        random_latent_vectors = tf.random.normal(shape=(batch_size, self.latent_dim))\n",
    "        random_vector_labels = tf.concat(\n",
    "            [random_latent_vectors, one_hot_labels], axis=1\n",
    "        )\n",
    "\n",
    "        # Assemble labels that say \"all real recipes\".\n",
    "        misleading_labels = tf.zeros((batch_size, 1))\n",
    "\n",
    "        # Train the generator (note that we should *not* update the weights\n",
    "        # of the discriminator)!\n",
    "        with tf.GradientTape() as tape:\n",
    "            fake_recipes = self.generator(random_vector_labels)\n",
    "            fake_recipe_and_labels = tf.concat([fake_recipes, recipe_one_hot_labels], -1)\n",
    "            predictions = self.discriminator(fake_recipe_and_labels)\n",
    "            g_loss = self.loss_fn(misleading_labels, predictions)\n",
    "        grads = tape.gradient(g_loss, self.generator.trainable_weights)\n",
    "        self.g_optimizer.apply_gradients(zip(grads, self.generator.trainable_weights))\n",
    "\n",
    "        # Monitor loss.\n",
    "        self.gen_loss_tracker.update_state(g_loss)\n",
    "        self.disc_loss_tracker.update_state(d_loss)\n",
    "        return {\n",
    "            \"g_loss\": self.gen_loss_tracker.result(),\n",
    "            \"d_loss\": self.disc_loss_tracker.result(),\n",
    "        }"
   ]
  },
  {
   "attachments": {},
   "cell_type": "markdown",
   "metadata": {},
   "source": [
    "## Training Conditional GAN"
   ]
  },
  {
   "cell_type": "code",
   "execution_count": null,
   "metadata": {},
   "outputs": [],
   "source": [
    "cond_gan = ConditionalGAN(\n",
    "    discriminator=discriminator, generator=generator, latent_dim=latent_dim\n",
    ")\n",
    "cond_gan.compile(\n",
    "    d_optimizer=keras.optimizers.Adam(learning_rate=0.0003),\n",
    "    g_optimizer=keras.optimizers.Adam(learning_rate=0.0003),\n",
    "    loss_fn=keras.losses.BinaryCrossentropy(from_logits=True),\n",
    ")\n",
    "\n",
    "cond_gan.fit(dataset, epochs=5)"
   ]
  },
  {
   "attachments": {},
   "cell_type": "markdown",
   "metadata": {},
   "source": [
    "## Interpolating between classes with the trained generator"
   ]
  },
  {
   "cell_type": "code",
   "execution_count": null,
   "metadata": {},
   "outputs": [],
   "source": [
    "# We first extract the trained generator from our Conditional GAN.\n",
    "trained_gen = cond_gan.generator\n",
    "\n",
    "# Choose the number of intermediate recipes that would be generated in\n",
    "# between the interpolation + 2 (start and last recipes).\n",
    "num_interpolation = 9  # @param {type:\"integer\"}\n",
    "\n",
    "# Sample noise for the interpolation.\n",
    "interpolation_noise = tf.random.normal(shape=(1, latent_dim))\n",
    "interpolation_noise = tf.repeat(interpolation_noise, repeats=num_interpolation)\n",
    "interpolation_noise = tf.reshape(interpolation_noise, (num_interpolation, latent_dim))\n",
    "\n",
    "\n",
    "def interpolate_class(first_number, second_number):\n",
    "    # Convert the start and end labels to one-hot encoded vectors.\n",
    "    first_label = keras.utils.to_categorical([first_number], num_classes)\n",
    "    second_label = keras.utils.to_categorical([second_number], num_classes)\n",
    "    first_label = tf.cast(first_label, tf.float32)\n",
    "    second_label = tf.cast(second_label, tf.float32)\n",
    "\n",
    "    # Calculate the interpolation vector between the two labels.\n",
    "    percent_second_label = tf.linspace(0, 1, num_interpolation)[:, None]\n",
    "    percent_second_label = tf.cast(percent_second_label, tf.float32)\n",
    "    interpolation_labels = (\n",
    "        first_label * (1 - percent_second_label) + second_label * percent_second_label\n",
    "    )\n",
    "\n",
    "    # Combine the noise and the labels and run inference with the generator.\n",
    "    noise_and_labels = tf.concat([interpolation_noise, interpolation_labels], 1)\n",
    "    fake = trained_gen.predict(noise_and_labels)\n",
    "    return fake\n",
    "\n",
    "\n",
    "start_class = 0  # @param {type:\"slider\", min:0, max:2, step:1}\n",
    "end_class = 2  # @param {type:\"slider\", min:0, max:2, step:1}\n",
    "\n",
    "fake_recipies = interpolate_class(start_class, end_class)"
   ]
  },
  {
   "cell_type": "code",
   "execution_count": null,
   "metadata": {},
   "outputs": [],
   "source": [
    "len(attributes)"
   ]
  },
  {
   "cell_type": "code",
   "execution_count": null,
   "metadata": {},
   "outputs": [],
   "source": [
    "# put fake recipes into dataframe\n",
    "for i, rec in enumerate(fake_recipies):\n",
    "    # reshape recipe\n",
    "    values = fake_recipies[i].reshape(1,1980)\n",
    "    # for first recipe: create dataframe\n",
    "    if i == 0:\n",
    "        converted_fake_recipies = pd.DataFrame(values, columns = attributes)\n",
    "    # for other recipes: add to dataframe \n",
    "    else:\n",
    "        # convert values to list \n",
    "        values = values[0].tolist()\n",
    "        converted_fake_recipies.loc[i] = values"
   ]
  },
  {
   "cell_type": "code",
   "execution_count": null,
   "metadata": {},
   "outputs": [],
   "source": [
    "# extract all ingredients that are not null for each recipe\n",
    "recipes = []\n",
    "for row, values in enumerate(converted_fake_recipies.values):\n",
    "    # print(row, len(values), values)\n",
    "    recipe = []\n",
    "    for i, value in enumerate(converted_fake_recipies.values[row]):\n",
    "        if value != 0:\n",
    "            recipe.append(converted_fake_recipies.columns[i])\n",
    "    recipes.append(recipe)\n",
    "# recipe = []\n",
    "# for i, value in enumerate(converted_fake_recipies.values[0]):\n",
    "#     if value != 0:\n",
    "#         recipe.append(converted_fake_recipies.columns[i])"
   ]
  },
  {
   "cell_type": "code",
   "execution_count": null,
   "metadata": {},
   "outputs": [],
   "source": [
    "for recipe in recipes:\n",
    "    print(recipe)"
   ]
  },
  {
   "attachments": {},
   "cell_type": "markdown",
   "metadata": {},
   "source": [
    "# sources "
   ]
  },
  {
   "attachments": {},
   "cell_type": "markdown",
   "metadata": {},
   "source": [
    "description of convoluation and transposed convolution layers: https://towardsdatascience.com/understand-transposed-convolutions-and-build-your-own-transposed-convolution-layer-from-scratch-4f5d97b2967\n",
    "\n",
    "example code: https://keras.io/examples/generative/conditional_gan/"
   ]
  }
 ],
 "metadata": {
  "kernelspec": {
   "display_name": "AML_Scherer",
   "language": "python",
   "name": "python3"
  },
  "language_info": {
   "codemirror_mode": {
    "name": "ipython",
    "version": 3
   },
   "file_extension": ".py",
   "mimetype": "text/x-python",
   "name": "python",
   "nbconvert_exporter": "python",
   "pygments_lexer": "ipython3",
   "version": "3.9.10"
  },
  "orig_nbformat": 4
 },
 "nbformat": 4,
 "nbformat_minor": 2
}
