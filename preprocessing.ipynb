{
 "cells": [
  {
   "attachments": {},
   "cell_type": "markdown",
   "metadata": {},
   "source": [
    "# explanation of dataset"
   ]
  },
  {
   "attachments": {},
   "cell_type": "markdown",
   "metadata": {},
   "source": [
    "labels: \n",
    "<br> 0: vegan\n",
    "<br> 1: vegetarian\n",
    "<br> 2: classic (neither vegetarian nor vegan label)"
   ]
  },
  {
   "attachments": {},
   "cell_type": "markdown",
   "metadata": {},
   "source": [
    "# settings"
   ]
  },
  {
   "cell_type": "code",
   "execution_count": 1,
   "metadata": {},
   "outputs": [],
   "source": [
    "# set category of considered categories \n",
    "considered_categories = [0, 1, 2] # can be: [0,1,2] = ['vegan', 'vegetarian', 'classic']\n",
    "\n",
    "# set number of considered recipes \n",
    "number_of_recipes = None # if whole dataset is to be used insert None\n",
    "samples_per_class = 1000 # if max number of samples insert None"
   ]
  },
  {
   "attachments": {},
   "cell_type": "markdown",
   "metadata": {},
   "source": [
    "# imports"
   ]
  },
  {
   "cell_type": "code",
   "execution_count": 2,
   "metadata": {},
   "outputs": [],
   "source": [
    "# imports\n",
    "import pandas as pd\n",
    "import numpy as np\n",
    "import os\n",
    "import ast\n",
    "import re\n",
    "\n",
    "from difflib import SequenceMatcher\n",
    "\n",
    "from sklearn.preprocessing import MultiLabelBinarizer"
   ]
  },
  {
   "cell_type": "code",
   "execution_count": 3,
   "metadata": {},
   "outputs": [],
   "source": [
    "# read source data\n",
    "dir = os.getcwd()\n",
    "df = pd.read_csv(dir + r'\\data\\recipes_w_search_terms.csv')"
   ]
  },
  {
   "attachments": {},
   "cell_type": "markdown",
   "metadata": {},
   "source": [
    "# preprocessing"
   ]
  },
  {
   "attachments": {},
   "cell_type": "markdown",
   "metadata": {},
   "source": [
    "## add labels "
   ]
  },
  {
   "cell_type": "code",
   "execution_count": 4,
   "metadata": {},
   "outputs": [],
   "source": [
    "# add labels by search terms in dataset\n",
    "df = df.assign(label=[0 if 'vegan' in x else 1 if 'vegetarian' in x else 2 for x in df.search_terms])"
   ]
  },
  {
   "cell_type": "markdown",
   "metadata": {},
   "source": [
    "## safe labelled dataset to file"
   ]
  },
  {
   "cell_type": "code",
   "execution_count": 5,
   "metadata": {},
   "outputs": [],
   "source": [
    "df.to_csv(dir + r'\\data\\recipes_w_search_terms_labelled.csv', index = False)"
   ]
  },
  {
   "attachments": {},
   "cell_type": "markdown",
   "metadata": {},
   "source": [
    "## shorten and filter dataset"
   ]
  },
  {
   "cell_type": "code",
   "execution_count": 6,
   "metadata": {},
   "outputs": [],
   "source": [
    "# shorten dataset by manual max leng\n",
    "if  number_of_recipes != None:\n",
    "    df = df[:number_of_recipes]\n",
    "\n",
    "# filter for necessary columns\n",
    "df = df[['ingredients','label']]\n",
    "\n",
    "# filter labels (if not all categories shall be included)\n",
    "df = df[df.label.isin(considered_categories)]"
   ]
  },
  {
   "cell_type": "markdown",
   "metadata": {},
   "source": [
    "## eval distribution of classes"
   ]
  },
  {
   "cell_type": "code",
   "execution_count": 7,
   "metadata": {},
   "outputs": [],
   "source": [
    "# create seperated dataframes of different classes\n",
    "vegan_df = df[df.label == 0]\n",
    "vegetarian_df = df[df.label == 1]\n",
    "classic_df = df[df.label == 2]"
   ]
  },
  {
   "cell_type": "code",
   "execution_count": 8,
   "metadata": {},
   "outputs": [],
   "source": [
    "# check if manual number of samples per class inserted. If not, use min number of samples per class \n",
    "if samples_per_class == None:\n",
    "    samples_per_class = min_samples = min(vegan_df.shape[0], vegetarian_df.shape[0], classic_df.shape[0])\n",
    "\n",
    "# shuffle dataset and use n numbers per class\n",
    "vegan_df = vegan_df.sample(frac = 1)[0:samples_per_class]\n",
    "vegetarian_df = vegetarian_df.sample(frac = 1)[0:samples_per_class]\n",
    "classic_df = classic_df.sample(frac = 1)[0:samples_per_class]\n",
    "\n",
    "# concatenate dataframes \n",
    "df = pd.concat([vegan_df, vegetarian_df, classic_df], ignore_index = True)"
   ]
  },
  {
   "attachments": {},
   "cell_type": "markdown",
   "metadata": {},
   "source": [
    "## preprocess ingredients names"
   ]
  },
  {
   "cell_type": "code",
   "execution_count": 9,
   "metadata": {},
   "outputs": [],
   "source": [
    "# transform column \"ingredients\" to list \n",
    "df = df.assign(ingredients = [ast.literal_eval(x) for x in df.ingredients])"
   ]
  },
  {
   "cell_type": "code",
   "execution_count": 10,
   "metadata": {},
   "outputs": [],
   "source": [
    "# remove all words in ingredients which include numbers\n",
    "df = df.assign(ingredients = [[(''.join([x + ' ' for x in x_sent.split() if not bool(re.search(r'\\d', x))]).strip()) for x_sent in x_list] for x_list in df.ingredients])"
   ]
  },
  {
   "attachments": {},
   "cell_type": "markdown",
   "metadata": {},
   "source": [
    "## one hot encoding and split labels and features\n",
    "if no split --> risk of error: column 'labels' can be deleted while merging columns with similar names"
   ]
  },
  {
   "cell_type": "code",
   "execution_count": 11,
   "metadata": {},
   "outputs": [],
   "source": [
    "# one hot encoding FEATURES\n",
    "# load MultiLabelBinarizer\n",
    "mlb = MultiLabelBinarizer(sparse_output=True)\n",
    "\n",
    "# execute one hot encoding\n",
    "df = df.join(\n",
    "    pd.DataFrame.sparse.from_spmatrix(\n",
    "        mlb.fit_transform(df.pop('ingredients')),\n",
    "        index = df.index, \n",
    "        columns = mlb.classes_\n",
    "    )\n",
    ")\n",
    "\n",
    "# drop labels to get features dataframe\n",
    "df_features = df.drop(df.columns[[0]], axis = 1)"
   ]
  },
  {
   "cell_type": "code",
   "execution_count": 12,
   "metadata": {},
   "outputs": [],
   "source": [
    "# get labels dataframe\n",
    "df_labels = df['label']\n",
    "\n",
    "# one hot encoding LABELS\n",
    "df_labels = pd.get_dummies(df_labels)"
   ]
  },
  {
   "attachments": {},
   "cell_type": "markdown",
   "metadata": {},
   "source": [
    "## merge columns with similar names "
   ]
  },
  {
   "cell_type": "code",
   "execution_count": 13,
   "metadata": {},
   "outputs": [],
   "source": [
    "# safe number of features before merging\n",
    "before_merge = len(df_features.columns)"
   ]
  },
  {
   "cell_type": "code",
   "execution_count": 14,
   "metadata": {},
   "outputs": [
    {
     "data": {
      "text/plain": [
       "{'apples': 'apple',\n",
       " 'apricots': 'apricot',\n",
       " 'artichoke hearts': 'artichoke heart',\n",
       " 'artichokes': 'artichoke',\n",
       " 'aubergines': 'aubergine',\n",
       " 'avocados': 'avocado',\n",
       " 'baby bella mushrooms': 'baby bella mushroom',\n",
       " 'bagels': 'bagel',\n",
       " 'baking potatoes': 'baking potato',\n",
       " 'bamboo shoots': 'bamboo shoot',\n",
       " 'bananas': 'banana',\n",
       " 'basil sprigs': 'basil sprig',\n",
       " 'bell peppers': 'bell pepper',\n",
       " 'biscuits': 'biscuit',\n",
       " 'blanched almonds': 'blanched almond',\n",
       " 'boneless skinless chicken breast halves': 'boneless skinless chicken breast',\n",
       " 'boneless skinless chicken breasts': 'boneless skinless chicken breast',\n",
       " 'broccoli florets': 'broccoli floret',\n",
       " 'brown onions': 'brown onion',\n",
       " 'bulgur wheat': 'bulgar wheat',\n",
       " 'buttered bread crumbs': 'buttered bread crumb',\n",
       " 'button mushrooms': 'button mushroom',\n",
       " 'canned pineapple': 'candied pineapple',\n",
       " 'canned tomatoes': 'canned tomato',\n",
       " 'caraway seeds': 'caraway seed',\n",
       " 'carrots': 'carrot',\n",
       " 'cauliflower florets': 'cauliflower floret',\n",
       " 'celery ribs': 'celery rib',\n",
       " 'celery seeds': 'celery seed',\n",
       " 'chicken bouillon cubes': 'chicken bouillon cube',\n",
       " 'chicken breasts': 'chicken breast',\n",
       " 'chicken pieces': 'chicken piece',\n",
       " 'chili peppers': 'chili pepper',\n",
       " 'chipotle chiles in adobo': 'chipotle chile in adobo',\n",
       " 'chipotle peppers': 'chipotle pepper',\n",
       " 'chocolate whey protein powder': 'chocolate protein powder',\n",
       " 'chopped tomatoes': 'chopped tomato',\n",
       " 'cinnamon sticks': 'cinnamon stick',\n",
       " 'cloves': 'clove',\n",
       " 'cooked sweet potatoes': 'cooked sweet potato',\n",
       " 'coriander seeds': 'coriander seed',\n",
       " 'corn kernels': 'corn kernel',\n",
       " 'crackers': 'cracker',\n",
       " 'cremini mushrooms': 'cremini mushroom',\n",
       " 'crescent rolls': 'crescent roll',\n",
       " 'croutons': 'crouton',\n",
       " 'cucumbers': 'cucumber',\n",
       " 'cumin seeds': 'cumin seed',\n",
       " 'dark raisins': 'dark raisin',\n",
       " 'deep dish pie shells': 'deep dish pie shell',\n",
       " 'diced onions': 'diced onion',\n",
       " 'diced tomatoes': 'diced tomato',\n",
       " 'dill pickles': 'dill pickle',\n",
       " 'dinner rolls': 'dinner roll',\n",
       " 'dried apricots': 'dried apricot',\n",
       " 'dried currants': 'dried currant',\n",
       " 'dried figs': 'dried fig',\n",
       " 'dried hot red chili peppers': 'dried hot red chili pepper',\n",
       " 'dried italian seasoning': 'dried italian herb seasoning',\n",
       " 'dried onion': 'diced onion',\n",
       " 'dried pinto beans': 'dried pinto bean',\n",
       " 'dried red chili pepper': 'dried hot red chili pepper',\n",
       " 'dried red chilies': 'dried red chili',\n",
       " 'dried shiitake mushrooms': 'dried shiitake mushroom',\n",
       " 'dried white beans': 'dried white bean',\n",
       " 'dry-roasted unsalted peanuts': 'dry roasted salted peanut',\n",
       " 'ears of corn': 'ear of corn',\n",
       " 'egg whites': 'egg white',\n",
       " 'egg yolks': 'egg yolk',\n",
       " 'eggplants': 'eggplant',\n",
       " 'english cucumbers': 'english cucumber',\n",
       " 'english muffins': 'english muffin',\n",
       " 'extra-large eggs': 'extra large eggs',\n",
       " 'fat-free ricotta cheese': 'fat-free cottage cheese',\n",
       " 'fennel bulbs': 'fennel bulb',\n",
       " 'fennel seeds': 'fennel seed',\n",
       " 'fingerling potatoes': 'fingerling potato',\n",
       " 'fish fillets': 'fish fillet',\n",
       " 'flank steaks': 'flank steak',\n",
       " 'flax seeds': 'flax seed',\n",
       " 'flour tortillas': 'flour tortilla',\n",
       " 'french baguettes': 'french baguette',\n",
       " 'fresh bean sprouts': 'fresh bean sprout',\n",
       " 'fresh breadcrumbs': 'fresh breadcrumb',\n",
       " 'fresh carrots': 'fresh carrot',\n",
       " 'fresh cilantro stems': 'fresh cilantro stem',\n",
       " 'fresh edible flowers': 'fresh edible flower',\n",
       " 'fresh garlic cloves': 'fresh garlic clove',\n",
       " 'fresh green chilies': 'fresh green chile',\n",
       " 'fresh herbs': 'fresh herb',\n",
       " 'fresh jalapeno peppers': 'fresh jalapeno pepper',\n",
       " 'fresh jalapenos': 'fresh jalapeno',\n",
       " 'fresh mozzarella balls': 'fresh mozzarella ball',\n",
       " 'fresh peaches': 'fresh peach',\n",
       " 'fresh pineapple chunks': 'fresh pineapple chunk',\n",
       " 'fresh thyme leaves': 'fresh thyme leave',\n",
       " 'fresh tomatoes': 'fresh tomato',\n",
       " 'frozen green peas': 'frozen green pea',\n",
       " 'frozen limeade concentrate': 'frozen lemonade concentrate',\n",
       " 'frozen unsweetened strawberries': 'frozen sweetened strawberries',\n",
       " 'garlic cloves': 'garlic clove',\n",
       " 'golden delicious apples': 'golden delicious apple',\n",
       " 'golden raisins': 'golden raisin',\n",
       " 'graham cracker crust': 'graham cracker crumbs',\n",
       " 'graham cracker pie crusts': 'graham cracker pie crust',\n",
       " 'graham crackers': 'graham cracker',\n",
       " 'granny smith apples': 'granny smith apple',\n",
       " 'great northern beans': 'great northern bean',\n",
       " 'green apples': 'green apple',\n",
       " 'green bell peppers': 'green bell pepper',\n",
       " 'green chili peppers': 'green chili pepper',\n",
       " 'green chilies': 'green chili',\n",
       " 'green grapes': 'green grape',\n",
       " 'green lentils': 'green lentil',\n",
       " 'green onions': 'green onion',\n",
       " 'green peppers': 'green pepper',\n",
       " 'green seedless grapes': 'green seedless grape',\n",
       " 'green sweet peppers': 'green sweet pepper',\n",
       " 'green tomatoes': 'green tomato',\n",
       " 'ground flax seeds': 'ground flax seed',\n",
       " 'hamburger buns': 'hamburger bun',\n",
       " 'hard-boiled eggs': 'hard-boiled egg',\n",
       " 'hass avocadoes': 'hass avocado',\n",
       " 'hot chili peppers': 'hot chili pepper',\n",
       " 'hot dogs': 'hot dog',\n",
       " 'hot green chili peppers': 'hot green chili pepper',\n",
       " 'hot peppers': 'hot pepper',\n",
       " 'hot red chili pepper': 'hot green chili pepper',\n",
       " 'ice cubes': 'ice cube',\n",
       " 'italian tomatoes': 'italian tomato',\n",
       " 'jalapeno chiles': 'jalapeno chile',\n",
       " 'jalapeno peppers': 'jalapeno pepper',\n",
       " 'jalapenos': 'jalapeno',\n",
       " 'kalamata olives': 'kalamata olive',\n",
       " 'key limes': 'key lime',\n",
       " 'kidney beans': 'kidney bean',\n",
       " 'kiwi fruits': 'kiwi fruit',\n",
       " 'lasagna noodles': 'lasagna noodle',\n",
       " 'lemon flavoring': 'almond flavoring',\n",
       " 'lemon wedges': 'lemon wedge',\n",
       " 'lemons': 'lemon',\n",
       " 'light-brown sugar': 'light brown sugar',\n",
       " 'lime wedges': 'lime wedge',\n",
       " 'long-grain rice': 'long grain rice',\n",
       " 'long-grain white rice': 'long grain white rice',\n",
       " 'masala': 'marsala',\n",
       " 'mashed bananas': 'mashed banana',\n",
       " 'minced garlic cloves': 'minced garlic clove',\n",
       " 'mini chocolate chips': 'mini chocolate chip',\n",
       " 'miniature marshmallows': 'miniature marshmallow',\n",
       " 'mint sprigs': 'mint sprig',\n",
       " 'mushrooms': 'mushroom',\n",
       " 'navel oranges': 'navel orange',\n",
       " 'nectarines': 'nectarine',\n",
       " 'new potatoes': 'new potato',\n",
       " 'no-salt-added tomato sauce': 'no-salt-added tomato juice',\n",
       " 'nonfat vanilla yogurt': 'non-fat vanilla yogurt',\n",
       " 'olives': 'olive',\n",
       " 'onions': 'onion',\n",
       " 'orange slices': 'orange slice',\n",
       " 'oranges': 'orange',\n",
       " 'oreo cookie pie crusts': 'oreo cookie pie crust',\n",
       " 'papayas': 'papaya',\n",
       " 'parsley sprigs': 'parsley sprig',\n",
       " 'parsnips': 'parsnip',\n",
       " 'pastry for double-crust pie': 'pastry for a double-crust pie',\n",
       " 'peppercorns': 'peppercorn',\n",
       " 'pepperoncini peppers': 'pepperoncini pepper',\n",
       " 'pickled jalapeno peppers': 'pickled jalapeno pepper',\n",
       " 'pickles': 'pickle',\n",
       " 'pie crusts': 'pie crust',\n",
       " 'pimento stuffed olives': 'pimento stuffed olive',\n",
       " 'pimientos': 'pimiento',\n",
       " 'pineapple chunks': 'pineapple chunk',\n",
       " 'pineapple juice': 'pineapple in juice',\n",
       " 'pita bread rounds': 'pita bread round',\n",
       " 'pita breads': 'pita bread',\n",
       " 'pizza crusts': 'pizza crust',\n",
       " 'plantains': 'plantain',\n",
       " 'plum tomatoes': 'plum tomato',\n",
       " 'poppy seeds': 'poppy seed',\n",
       " 'porcini mushrooms': 'porcini mushroom',\n",
       " 'portabella mushrooms': 'portabella mushroom caps',\n",
       " 'prepared graham cracker crusts': 'prepared graham cracker crust',\n",
       " 'pretzel sticks': 'pretzel stick',\n",
       " 'pretzels': 'pretzel',\n",
       " 'prunes': 'prune',\n",
       " 'purple onions': 'purple onion',\n",
       " 'raisins': 'craisins',\n",
       " 'red apples': 'red apple',\n",
       " 'red bell peppers': 'red bell pepper',\n",
       " 'red capsicums': 'red capsicum',\n",
       " 'red chili pepper flakes': 'dried chili pepper flakes',\n",
       " 'red chili peppers': 'red chili pepper',\n",
       " 'red hot pepper sauce': 'green hot pepper sauce',\n",
       " 'red lentils': 'red lentil',\n",
       " 'red onions': 'red onion',\n",
       " 'red peppers': 'red pepper',\n",
       " 'red raspberry preserves': 'raspberry preserves',\n",
       " 'rice wine vinegar': 'red wine vinegar',\n",
       " 'ritz crackers': 'ritz cracker',\n",
       " 'roasted red peppers': 'roasted red pepper',\n",
       " 'roma tomatoes': 'roma tomato',\n",
       " 'rotel tomatoes': 'ro-tel tomatoes',\n",
       " 'russet potatoes': 'russet potato',\n",
       " 'saffron threads': 'saffron thread',\n",
       " 'salt freshly ground black pepper': 'kosher salt freshly ground black pepper',\n",
       " 'sandwich buns': 'sandwich bun',\n",
       " 'sausages': 'sausage',\n",
       " 'scallions': 'scallion',\n",
       " 'seasoned salt': 'season salt',\n",
       " 'seedless raisins': 'seedless raisin',\n",
       " 'self rising flour': 'self raising flour',\n",
       " 'self-raising flour': 'self raising flour',\n",
       " 'self-rising flour': 'self raising flour',\n",
       " 'semisweet chocolate chips': 'semi-sweet chocolate chips',\n",
       " 'semisweet chocolate morsels': 'semisweet chocolate morsel',\n",
       " 'serrano chilies': 'serrano chili',\n",
       " 'shallots': 'shallot',\n",
       " 'shiitake mushrooms': 'shiitake mushroom',\n",
       " 'small red potatoes': 'small red potato',\n",
       " 'soya sauce': 'soy sauce',\n",
       " 'spanish onions': 'spanish onion',\n",
       " 'spinach tortillas': 'spinach tortilla',\n",
       " 'spring onions': 'spring onion',\n",
       " 'string beans': 'string bean',\n",
       " 'sugar snap peas': 'sugar snap pea',\n",
       " 'sultanas': 'sultana',\n",
       " 'sun-dried tomato pesto': 'sun-dried tomato paste',\n",
       " 'sun-dried tomatoes': 'sun-dried tomato',\n",
       " 'sun-dried tomatoes packed in oil': 'sun-dried tomato packed in oil',\n",
       " 'sweet onions': 'sweet onion',\n",
       " 'sweet peppers': 'sweet pepper',\n",
       " 'sweet potatoes': 'sweet potato',\n",
       " 'sweet red peppers': 'sweet red pepper',\n",
       " 'sweetcorn': 'sweet corn',\n",
       " 'taco shells': 'taco shell',\n",
       " 'tart apples': 'tart apple',\n",
       " 'tea bags': 'tea bag',\n",
       " 'toasted almonds': 'toasted almond',\n",
       " 'toasted sesame seeds': 'roasted sesame seeds',\n",
       " 'tomatillos': 'tomatillo',\n",
       " 'tortillas': 'tortilla',\n",
       " 'turnips': 'turnip',\n",
       " 'unbaked pie shells': 'unbaked pie shell',\n",
       " 'uncooked rice': 'cooked rice',\n",
       " 'unsalted butter': 'salted butter',\n",
       " 'unsalted cashews': 'salted cashews',\n",
       " 'unsalted macadamia nuts': 'salted macadamia nuts',\n",
       " 'unseasoned breadcrumbs': 'seasoned bread crumbs',\n",
       " 'unsweetened coconut': 'sweetened coconut',\n",
       " 'unsweetened flaked coconut': 'sweetened flaked coconut',\n",
       " 'vegetable stock cubes': 'vegetable stock cube',\n",
       " 'vegetarian worcestershire sauce': 'vegan worcestershire sauce',\n",
       " 'vidalia onions': 'vidalia onion',\n",
       " 'water chestnuts': 'water chestnut',\n",
       " 'wax beans': 'wax bean',\n",
       " 'white onions': 'white onion',\n",
       " 'white pearl onions': 'white pearl onion',\n",
       " 'whole almonds': 'whole almond',\n",
       " 'whole black peppercorns': 'whole black peppercorn',\n",
       " 'whole chickens': 'whole chicken',\n",
       " 'whole mushrooms': 'whole mushroom',\n",
       " 'whole tomatoes': 'whole tomato',\n",
       " 'whole wheat tortillas': 'whole wheat tortilla',\n",
       " 'wild mushrooms': 'wild mushroom',\n",
       " 'yellow bell peppers': 'yellow bell pepper',\n",
       " 'yellow onions': 'yellow onion',\n",
       " 'yellow peppers': 'yellow pepper',\n",
       " 'yogurt': 'yoghurt',\n",
       " 'yukon gold potatoes': 'yukon gold potato'}"
      ]
     },
     "execution_count": 14,
     "metadata": {},
     "output_type": "execute_result"
    }
   ],
   "source": [
    "# if two column names have a similarity of more than 90%, they are renamed the same\n",
    "similar_names = {}\n",
    "ingredients = []\n",
    "for column in df_features.columns:\n",
    "    if any(SequenceMatcher(None, ing, column).ratio() > 0.9 for ing in ingredients):\n",
    "        for ing in ingredients:\n",
    "            if SequenceMatcher(None, ing, column).ratio() > 0.9:\n",
    "                df_features.rename({column: ing}, axis=1, inplace = True) \n",
    "                similar_names[column] = ing\n",
    "    else:\n",
    "        ingredients.append(column)\n",
    "        \n",
    "# merge columns with same name\n",
    "df_features = df_features.groupby(level = 0, axis = 1).sum()\n",
    "\n",
    "# print similar names\n",
    "similar_names"
   ]
  },
  {
   "cell_type": "code",
   "execution_count": 15,
   "metadata": {},
   "outputs": [
    {
     "name": "stdout",
     "output_type": "stream",
     "text": [
      "number of features before merge: 3286 \n",
      "number of features after merge:  3015\n"
     ]
    }
   ],
   "source": [
    "print('number of features before merge:', before_merge, '\\nnumber of features after merge: ', len(df_features.columns))"
   ]
  },
  {
   "attachments": {},
   "cell_type": "markdown",
   "metadata": {},
   "source": [
    "# safe preprocessed df to file"
   ]
  },
  {
   "cell_type": "code",
   "execution_count": 16,
   "metadata": {},
   "outputs": [],
   "source": [
    "df_features.to_csv(dir + r'\\data\\df_features.csv', index = False)\n",
    "df_labels.to_csv(dir + r'\\data\\df_labels.csv', index = False)"
   ]
  }
 ],
 "metadata": {
  "kernelspec": {
   "display_name": "AML_Scherer",
   "language": "python",
   "name": "python3"
  },
  "language_info": {
   "codemirror_mode": {
    "name": "ipython",
    "version": 3
   },
   "file_extension": ".py",
   "mimetype": "text/x-python",
   "name": "python",
   "nbconvert_exporter": "python",
   "pygments_lexer": "ipython3",
   "version": "3.9.10"
  },
  "orig_nbformat": 4
 },
 "nbformat": 4,
 "nbformat_minor": 2
}
