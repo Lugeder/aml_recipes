{
 "cells": [
  {
   "cell_type": "code",
   "execution_count": 2,
   "metadata": {},
   "outputs": [],
   "source": [
    "# data source: https://www.kaggle.com/datasets/shuyangli94/foodcom-recipes-with-search-terms-and-tags"
   ]
  },
  {
   "cell_type": "code",
   "execution_count": 3,
   "metadata": {},
   "outputs": [],
   "source": [
    "# imports\n",
    "import pandas as pd\n",
    "import os"
   ]
  },
  {
   "cell_type": "code",
   "execution_count": 4,
   "metadata": {},
   "outputs": [],
   "source": [
    "# read source data\n",
    "dir = os.getcwd()\n",
    "df_complete = pd.read_csv(dir + r'\\data\\recipes_w_search_terms.csv')"
   ]
  },
  {
   "attachments": {},
   "cell_type": "markdown",
   "metadata": {},
   "source": [
    "# create datasets\n",
    "<br> df_classic: all recipes [all]\n",
    "<br> df_classic_reduced: all recipes that are not vegetarian (and therefore also not vegan) [not vegetarian, not vegan]\n",
    "<br> df_vegetarian: all recipes that are vegetarian [vegetarian]\n",
    "<br> df_vegetarian_reduced: all recipes that are vegetarian but not vegan [vegetarian, not vegan]\n",
    "<br> df_vegan: all recipes that are vegan [vegan]"
   ]
  },
  {
   "cell_type": "code",
   "execution_count": 18,
   "metadata": {},
   "outputs": [],
   "source": [
    "# create classic datasets\n",
    "df_classic = df_complete[['id', 'name', 'ingredients', 'search_terms']]\n",
    "df_classic_reduced = df_classic[~df_classic['search_terms'].str.contains('vegetarian')]\n",
    "df_classic.to_csv(dir + r'\\data\\df_classic.csv')\n",
    "df_classic_reduced.to_csv(dir + r'\\data\\df_classic_reduced.csv')"
   ]
  },
  {
   "cell_type": "code",
   "execution_count": 17,
   "metadata": {},
   "outputs": [],
   "source": [
    "# create vegetarian datasets\n",
    "df_vegetarian = df_classic[df_classic['search_terms'].str.contains('vegetarian')]\n",
    "df_vegetarian_reduced = df_vegetarian[~df_vegetarian['search_terms'].str.contains('vegan')]\n",
    "df_vegetarian.to_csv(dir + r'\\data\\df_vegetarian.csv')\n",
    "df_vegetarian_reduced.to_csv(dir + r'\\data\\df_vegetarian_reduced.csv')"
   ]
  },
  {
   "cell_type": "code",
   "execution_count": 16,
   "metadata": {},
   "outputs": [],
   "source": [
    "# create vegan datasets (df_vegan == df_vegan_reduced)\n",
    "df_vegan = df_classic[df_classic['search_terms'].str.contains('vegan')]\n",
    "df_vegan.to_csv(dir + r'\\data\\df_vegan.csv')"
   ]
  }
 ],
 "metadata": {
  "kernelspec": {
   "display_name": "AML_Scherer",
   "language": "python",
   "name": "python3"
  },
  "language_info": {
   "codemirror_mode": {
    "name": "ipython",
    "version": 3
   },
   "file_extension": ".py",
   "mimetype": "text/x-python",
   "name": "python",
   "nbconvert_exporter": "python",
   "pygments_lexer": "ipython3",
   "version": "3.9.10"
  },
  "orig_nbformat": 4
 },
 "nbformat": 4,
 "nbformat_minor": 2
}
