{
 "cells": [
  {
   "attachments": {},
   "cell_type": "markdown",
   "metadata": {},
   "source": [
    "# imports "
   ]
  },
  {
   "cell_type": "code",
   "execution_count": 2,
   "metadata": {},
   "outputs": [],
   "source": [
    "# imports\n",
    "import pandas as pd\n",
    "import os\n",
    "import ast"
   ]
  },
  {
   "cell_type": "code",
   "execution_count": 3,
   "metadata": {},
   "outputs": [],
   "source": [
    "dir = os.getcwd()\n",
    "# df_source = pd.read_csv(dir + r'\\data\\recipes_w_search_terms.csv') # uncommented due to runtime issues\n",
    "df = pd.read_csv(dir + r'\\data\\df_preprocessed.csv')\n",
    "# df_classic = pd.read_csv(dir + r'\\data\\df_classic.csv')\n",
    "# df_classic_reduced = pd.read_csv(dir + r'\\data\\df_classic_reduced.csv')\n",
    "# df_vegetarian = pd.read_csv(dir + r'\\data\\df_vegetarian.csv')\n",
    "# df_vegetarian_reduced = pd.read_csv(dir + r'\\data\\df_vegetarian_reduced.csv')\n",
    "# df_vegan = pd.read_csv(dir + r'\\data\\df_vegan.csv')"
   ]
  },
  {
   "cell_type": "code",
   "execution_count": 4,
   "metadata": {},
   "outputs": [],
   "source": [
    "# transform column \"ingredients\" to list \n",
    "df = df.assign(ingredients=[ast.literal_eval(x) if type(x) == str else x for x in df.ingredients])"
   ]
  },
  {
   "attachments": {},
   "cell_type": "markdown",
   "metadata": {},
   "source": [
    "# lengths of different dataframes"
   ]
  },
  {
   "cell_type": "code",
   "execution_count": 5,
   "metadata": {},
   "outputs": [],
   "source": [
    "# print('amount recipes: ', len(df_classic))\n",
    "# print('amount recipes non-vegetarian, non-vegan: ', len(df_classic_reduced))\n",
    "# print('amount recipes vegetarian: ', len(df_vegetarian))\n",
    "# print('amount recipes vegetarian, non-vegan: ', len(df_vegetarian_reduced))\n",
    "# print('amount recipes vegan: ', len(df_vegan))"
   ]
  },
  {
   "attachments": {},
   "cell_type": "markdown",
   "metadata": {},
   "source": [
    "# columns"
   ]
  },
  {
   "cell_type": "code",
   "execution_count": 6,
   "metadata": {},
   "outputs": [
    {
     "data": {
      "text/plain": [
       "Index(['id', 'name', 'ingredients', 'label'], dtype='object')"
      ]
     },
     "execution_count": 6,
     "metadata": {},
     "output_type": "execute_result"
    }
   ],
   "source": [
    "# all columns \n",
    "df.columns"
   ]
  },
  {
   "cell_type": "code",
   "execution_count": 7,
   "metadata": {},
   "outputs": [
    {
     "data": {
      "text/plain": [
       "Index(['id', 'name', 'ingredients', 'label'], dtype='object')"
      ]
     },
     "execution_count": 7,
     "metadata": {},
     "output_type": "execute_result"
    }
   ],
   "source": [
    "# used columns\n",
    "df.columns"
   ]
  },
  {
   "attachments": {},
   "cell_type": "markdown",
   "metadata": {},
   "source": [
    "# Distribution of classes"
   ]
  },
  {
   "cell_type": "code",
   "execution_count": 8,
   "metadata": {},
   "outputs": [
    {
     "name": "stdout",
     "output_type": "stream",
     "text": [
      "amount of vegan recipies:  0\n",
      "amount of vegetarian recipies:  0\n",
      "amount of classic recipies:  0\n"
     ]
    }
   ],
   "source": [
    "print('amount of vegan recipies: ', len(df[df.label == 'vegan']))\n",
    "print('amount of vegetarian recipies: ', len(df[df.label == 'vegetarian']))\n",
    "print('amount of classic recipies: ', len(df[df.label == 'classic']))\n"
   ]
  },
  {
   "attachments": {},
   "cell_type": "markdown",
   "metadata": {},
   "source": [
    "# Distribution of recipe names"
   ]
  },
  {
   "cell_type": "code",
   "execution_count": 9,
   "metadata": {},
   "outputs": [
    {
     "name": "stdout",
     "output_type": "stream",
     "text": [
      "length of unique recipe names: 412801\n",
      "length of the dataset: 494963\n",
      "difference: 82162\n"
     ]
    }
   ],
   "source": [
    "print('length of unique recipe names:', len(df.name.unique()))\n",
    "print('length of the dataset:', len(df))\n",
    "print('difference:', len(df) - len(df.name.unique()))"
   ]
  },
  {
   "cell_type": "code",
   "execution_count": 10,
   "metadata": {},
   "outputs": [],
   "source": [
    "df_duplicated = df[df.duplicated(subset = 'name') == True]"
   ]
  },
  {
   "cell_type": "code",
   "execution_count": 11,
   "metadata": {},
   "outputs": [
    {
     "data": {
      "text/html": [
       "<div>\n",
       "<style scoped>\n",
       "    .dataframe tbody tr th:only-of-type {\n",
       "        vertical-align: middle;\n",
       "    }\n",
       "\n",
       "    .dataframe tbody tr th {\n",
       "        vertical-align: top;\n",
       "    }\n",
       "\n",
       "    .dataframe thead th {\n",
       "        text-align: right;\n",
       "    }\n",
       "</style>\n",
       "<table border=\"1\" class=\"dataframe\">\n",
       "  <thead>\n",
       "    <tr style=\"text-align: right;\">\n",
       "      <th></th>\n",
       "      <th>id</th>\n",
       "      <th>name</th>\n",
       "      <th>ingredients</th>\n",
       "      <th>label</th>\n",
       "    </tr>\n",
       "  </thead>\n",
       "  <tbody>\n",
       "    <tr>\n",
       "      <th>267854</th>\n",
       "      <td>177187</td>\n",
       "      <td>$250 Chocolate Chip Cookies Recipe</td>\n",
       "      <td>[butter, brown sugar, vanilla, blended oatmeal...</td>\n",
       "      <td>2</td>\n",
       "    </tr>\n",
       "    <tr>\n",
       "      <th>261572</th>\n",
       "      <td>245855</td>\n",
       "      <td>&amp;quot;fronch&amp;quot; Toast</td>\n",
       "      <td>[whole wheat bread, unsweetened vanilla almond...</td>\n",
       "      <td>0</td>\n",
       "    </tr>\n",
       "    <tr>\n",
       "      <th>272681</th>\n",
       "      <td>354328</td>\n",
       "      <td>---</td>\n",
       "      <td>[green peppers, garlic cloves, extra virgin ol...</td>\n",
       "      <td>2</td>\n",
       "    </tr>\n",
       "    <tr>\n",
       "      <th>110549</th>\n",
       "      <td>373962</td>\n",
       "      <td>------------</td>\n",
       "      <td>[tomato sauce, water, onion flakes, red pepper...</td>\n",
       "      <td>2</td>\n",
       "    </tr>\n",
       "    <tr>\n",
       "      <th>33056</th>\n",
       "      <td>447317</td>\n",
       "      <td>------------</td>\n",
       "      <td>[flour, cornmeal, masa harina, sugar, baking p...</td>\n",
       "      <td>2</td>\n",
       "    </tr>\n",
       "    <tr>\n",
       "      <th>367172</th>\n",
       "      <td>448884</td>\n",
       "      <td>------------</td>\n",
       "      <td>[water, natural-style peanut butter, unbleache...</td>\n",
       "      <td>2</td>\n",
       "    </tr>\n",
       "    <tr>\n",
       "      <th>231144</th>\n",
       "      <td>368257</td>\n",
       "      <td>------------</td>\n",
       "      <td>[lemon, honey, horseradish mustard, garlic clo...</td>\n",
       "      <td>2</td>\n",
       "    </tr>\n",
       "    <tr>\n",
       "      <th>33245</th>\n",
       "      <td>366996</td>\n",
       "      <td>--------------</td>\n",
       "      <td>[sifted flour, baking powder, salt, milk, butt...</td>\n",
       "      <td>2</td>\n",
       "    </tr>\n",
       "    <tr>\n",
       "      <th>212507</th>\n",
       "      <td>419857</td>\n",
       "      <td>--------------</td>\n",
       "      <td>[cider vinegar, dijon mustard, honey, garlic p...</td>\n",
       "      <td>2</td>\n",
       "    </tr>\n",
       "    <tr>\n",
       "      <th>349876</th>\n",
       "      <td>434002</td>\n",
       "      <td>----------------</td>\n",
       "      <td>[mayonnaise, celery, salt, pepper, celery salt...</td>\n",
       "      <td>2</td>\n",
       "    </tr>\n",
       "    <tr>\n",
       "      <th>458529</th>\n",
       "      <td>359367</td>\n",
       "      <td>----------------</td>\n",
       "      <td>[avocados, serrano pepper, lemon, fresh cilant...</td>\n",
       "      <td>2</td>\n",
       "    </tr>\n",
       "    <tr>\n",
       "      <th>201806</th>\n",
       "      <td>362668</td>\n",
       "      <td>-------------------</td>\n",
       "      <td>[raisins, all-purpose flour, baking soda, salt...</td>\n",
       "      <td>2</td>\n",
       "    </tr>\n",
       "    <tr>\n",
       "      <th>219512</th>\n",
       "      <td>363005</td>\n",
       "      <td>-------------------</td>\n",
       "      <td>[sharp cheddar cheese, pecans, mayonnaise, gar...</td>\n",
       "      <td>2</td>\n",
       "    </tr>\n",
       "    <tr>\n",
       "      <th>472678</th>\n",
       "      <td>363816</td>\n",
       "      <td>----------------------</td>\n",
       "      <td>[unbleached flour, unbleached cane sugar, baki...</td>\n",
       "      <td>2</td>\n",
       "    </tr>\n",
       "    <tr>\n",
       "      <th>342500</th>\n",
       "      <td>512160</td>\n",
       "      <td>1-2-3 Jambalaya</td>\n",
       "      <td>[johnsonville andouille dinner sausage, raw sh...</td>\n",
       "      <td>2</td>\n",
       "    </tr>\n",
       "    <tr>\n",
       "      <th>283751</th>\n",
       "      <td>312428</td>\n",
       "      <td>1-2-3-4 Cake</td>\n",
       "      <td>[butter, sugar, flour, eggs, milk, baking powd...</td>\n",
       "      <td>2</td>\n",
       "    </tr>\n",
       "    <tr>\n",
       "      <th>393641</th>\n",
       "      <td>115641</td>\n",
       "      <td>1-2-3-4 Cake</td>\n",
       "      <td>[butter, sugar, cake flour, eggs, salt, baking...</td>\n",
       "      <td>2</td>\n",
       "    </tr>\n",
       "    <tr>\n",
       "      <th>365606</th>\n",
       "      <td>196157</td>\n",
       "      <td>1-2-3-4 Cake</td>\n",
       "      <td>[butter, sugar, flour, eggs, cold water, cream...</td>\n",
       "      <td>2</td>\n",
       "    </tr>\n",
       "    <tr>\n",
       "      <th>481171</th>\n",
       "      <td>134128</td>\n",
       "      <td>10 Minute Szechuan Chicken</td>\n",
       "      <td>[boneless skinless chicken breast halves, corn...</td>\n",
       "      <td>2</td>\n",
       "    </tr>\n",
       "    <tr>\n",
       "      <th>173198</th>\n",
       "      <td>216092</td>\n",
       "      <td>100% Parmesan Chicken</td>\n",
       "      <td>[skinless chicken breast halves, butter, parme...</td>\n",
       "      <td>2</td>\n",
       "    </tr>\n",
       "  </tbody>\n",
       "</table>\n",
       "</div>"
      ],
      "text/plain": [
       "            id                                name  \\\n",
       "267854  177187  $250 Chocolate Chip Cookies Recipe   \n",
       "261572  245855            &quot;fronch&quot; Toast   \n",
       "272681  354328                                 ---   \n",
       "110549  373962                        ------------   \n",
       "33056   447317                        ------------   \n",
       "367172  448884                        ------------   \n",
       "231144  368257                        ------------   \n",
       "33245   366996                      --------------   \n",
       "212507  419857                      --------------   \n",
       "349876  434002                    ----------------   \n",
       "458529  359367                    ----------------   \n",
       "201806  362668                 -------------------   \n",
       "219512  363005                 -------------------   \n",
       "472678  363816              ----------------------   \n",
       "342500  512160                     1-2-3 Jambalaya   \n",
       "283751  312428                        1-2-3-4 Cake   \n",
       "393641  115641                        1-2-3-4 Cake   \n",
       "365606  196157                        1-2-3-4 Cake   \n",
       "481171  134128          10 Minute Szechuan Chicken   \n",
       "173198  216092               100% Parmesan Chicken   \n",
       "\n",
       "                                              ingredients  label  \n",
       "267854  [butter, brown sugar, vanilla, blended oatmeal...      2  \n",
       "261572  [whole wheat bread, unsweetened vanilla almond...      0  \n",
       "272681  [green peppers, garlic cloves, extra virgin ol...      2  \n",
       "110549  [tomato sauce, water, onion flakes, red pepper...      2  \n",
       "33056   [flour, cornmeal, masa harina, sugar, baking p...      2  \n",
       "367172  [water, natural-style peanut butter, unbleache...      2  \n",
       "231144  [lemon, honey, horseradish mustard, garlic clo...      2  \n",
       "33245   [sifted flour, baking powder, salt, milk, butt...      2  \n",
       "212507  [cider vinegar, dijon mustard, honey, garlic p...      2  \n",
       "349876  [mayonnaise, celery, salt, pepper, celery salt...      2  \n",
       "458529  [avocados, serrano pepper, lemon, fresh cilant...      2  \n",
       "201806  [raisins, all-purpose flour, baking soda, salt...      2  \n",
       "219512  [sharp cheddar cheese, pecans, mayonnaise, gar...      2  \n",
       "472678  [unbleached flour, unbleached cane sugar, baki...      2  \n",
       "342500  [johnsonville andouille dinner sausage, raw sh...      2  \n",
       "283751  [butter, sugar, flour, eggs, milk, baking powd...      2  \n",
       "393641  [butter, sugar, cake flour, eggs, salt, baking...      2  \n",
       "365606  [butter, sugar, flour, eggs, cold water, cream...      2  \n",
       "481171  [boneless skinless chicken breast halves, corn...      2  \n",
       "173198  [skinless chicken breast halves, butter, parme...      2  "
      ]
     },
     "execution_count": 11,
     "metadata": {},
     "output_type": "execute_result"
    }
   ],
   "source": [
    "df_duplicated.sort_values('name')[0:20]"
   ]
  },
  {
   "cell_type": "code",
   "execution_count": 12,
   "metadata": {},
   "outputs": [
    {
     "data": {
      "text/html": [
       "<div>\n",
       "<style scoped>\n",
       "    .dataframe tbody tr th:only-of-type {\n",
       "        vertical-align: middle;\n",
       "    }\n",
       "\n",
       "    .dataframe tbody tr th {\n",
       "        vertical-align: top;\n",
       "    }\n",
       "\n",
       "    .dataframe thead th {\n",
       "        text-align: right;\n",
       "    }\n",
       "</style>\n",
       "<table border=\"1\" class=\"dataframe\">\n",
       "  <thead>\n",
       "    <tr style=\"text-align: right;\">\n",
       "      <th></th>\n",
       "      <th>id</th>\n",
       "      <th>name</th>\n",
       "      <th>ingredients</th>\n",
       "      <th>label</th>\n",
       "    </tr>\n",
       "  </thead>\n",
       "  <tbody>\n",
       "    <tr>\n",
       "      <th>0</th>\n",
       "      <td>96313</td>\n",
       "      <td>Grilled Garlic Cheese Grits</td>\n",
       "      <td>[water, grits, salt, cheddar cheese, garlic, o...</td>\n",
       "      <td>1</td>\n",
       "    </tr>\n",
       "    <tr>\n",
       "      <th>1</th>\n",
       "      <td>232037</td>\n",
       "      <td>Simple Shrimp and Andouille Jambalaya</td>\n",
       "      <td>[onion, red bell pepper, garlic cloves, large ...</td>\n",
       "      <td>2</td>\n",
       "    </tr>\n",
       "    <tr>\n",
       "      <th>2</th>\n",
       "      <td>41090</td>\n",
       "      <td>black-and-white bean salad</td>\n",
       "      <td>[white beans, canned black beans, tomatoes, on...</td>\n",
       "      <td>0</td>\n",
       "    </tr>\n",
       "    <tr>\n",
       "      <th>3</th>\n",
       "      <td>60656</td>\n",
       "      <td>Crock Pot Italian Zucchini</td>\n",
       "      <td>[zucchini, yellow squash, diced tomatoes, onio...</td>\n",
       "      <td>1</td>\n",
       "    </tr>\n",
       "    <tr>\n",
       "      <th>4</th>\n",
       "      <td>232047</td>\n",
       "      <td>Beef Stew With Dried Cherries</td>\n",
       "      <td>[beef stew meat, flour, salt, allspice, cinnam...</td>\n",
       "      <td>2</td>\n",
       "    </tr>\n",
       "    <tr>\n",
       "      <th>...</th>\n",
       "      <td>...</td>\n",
       "      <td>...</td>\n",
       "      <td>...</td>\n",
       "      <td>...</td>\n",
       "    </tr>\n",
       "    <tr>\n",
       "      <th>494958</th>\n",
       "      <td>276465</td>\n",
       "      <td>Blackberry Orange Scones</td>\n",
       "      <td>[unbleached flour, baking soda, butter, orange...</td>\n",
       "      <td>2</td>\n",
       "    </tr>\n",
       "    <tr>\n",
       "      <th>494959</th>\n",
       "      <td>257796</td>\n",
       "      <td>Slow Cooker Garlic Chicken With Rosemary</td>\n",
       "      <td>[roasting chickens, lemons, rosemary sprigs, p...</td>\n",
       "      <td>2</td>\n",
       "    </tr>\n",
       "    <tr>\n",
       "      <th>494960</th>\n",
       "      <td>78003</td>\n",
       "      <td>Pot Roast with Port (Stove Top)</td>\n",
       "      <td>[boneless beef chuck roast, olive oil, tawny p...</td>\n",
       "      <td>2</td>\n",
       "    </tr>\n",
       "    <tr>\n",
       "      <th>494961</th>\n",
       "      <td>328810</td>\n",
       "      <td>Kapusta ( Cabbage and Kielbasa )</td>\n",
       "      <td>[cabbage, condensed tomato soup, kielbasa, oni...</td>\n",
       "      <td>2</td>\n",
       "    </tr>\n",
       "    <tr>\n",
       "      <th>494962</th>\n",
       "      <td>9116</td>\n",
       "      <td>Yellow or Zucchini Squash Pie</td>\n",
       "      <td>[zucchini, onion, butter, oregano, basil, salt...</td>\n",
       "      <td>2</td>\n",
       "    </tr>\n",
       "  </tbody>\n",
       "</table>\n",
       "<p>494963 rows × 4 columns</p>\n",
       "</div>"
      ],
      "text/plain": [
       "            id                                      name  \\\n",
       "0        96313               Grilled Garlic Cheese Grits   \n",
       "1       232037     Simple Shrimp and Andouille Jambalaya   \n",
       "2        41090                black-and-white bean salad   \n",
       "3        60656                Crock Pot Italian Zucchini   \n",
       "4       232047             Beef Stew With Dried Cherries   \n",
       "...        ...                                       ...   \n",
       "494958  276465                  Blackberry Orange Scones   \n",
       "494959  257796  Slow Cooker Garlic Chicken With Rosemary   \n",
       "494960   78003           Pot Roast with Port (Stove Top)   \n",
       "494961  328810          Kapusta ( Cabbage and Kielbasa )   \n",
       "494962    9116             Yellow or Zucchini Squash Pie   \n",
       "\n",
       "                                              ingredients  label  \n",
       "0       [water, grits, salt, cheddar cheese, garlic, o...      1  \n",
       "1       [onion, red bell pepper, garlic cloves, large ...      2  \n",
       "2       [white beans, canned black beans, tomatoes, on...      0  \n",
       "3       [zucchini, yellow squash, diced tomatoes, onio...      1  \n",
       "4       [beef stew meat, flour, salt, allspice, cinnam...      2  \n",
       "...                                                   ...    ...  \n",
       "494958  [unbleached flour, baking soda, butter, orange...      2  \n",
       "494959  [roasting chickens, lemons, rosemary sprigs, p...      2  \n",
       "494960  [boneless beef chuck roast, olive oil, tawny p...      2  \n",
       "494961  [cabbage, condensed tomato soup, kielbasa, oni...      2  \n",
       "494962  [zucchini, onion, butter, oregano, basil, salt...      2  \n",
       "\n",
       "[494963 rows x 4 columns]"
      ]
     },
     "execution_count": 12,
     "metadata": {},
     "output_type": "execute_result"
    }
   ],
   "source": [
    "df"
   ]
  },
  {
   "cell_type": "code",
   "execution_count": 13,
   "metadata": {},
   "outputs": [],
   "source": [
    "df['ingredients_sorted'] = None"
   ]
  },
  {
   "cell_type": "code",
   "execution_count": 14,
   "metadata": {},
   "outputs": [
    {
     "name": "stdout",
     "output_type": "stream",
     "text": [
      "['cheddar cheese', 'grits', 'salt', 'water']\n"
     ]
    }
   ],
   "source": [
    "a = ['water', 'grits', 'salt', 'cheddar cheese']\n",
    "print(sorted(a))"
   ]
  },
  {
   "cell_type": "code",
   "execution_count": 15,
   "metadata": {},
   "outputs": [
    {
     "ename": "ValueError",
     "evalue": "malformed node or string: ['water', 'grits', 'salt', 'cheddar cheese', 'garlic', 'olive oil']",
     "output_type": "error",
     "traceback": [
      "\u001b[1;31m---------------------------------------------------------------------------\u001b[0m",
      "\u001b[1;31mValueError\u001b[0m                                Traceback (most recent call last)",
      "Cell \u001b[1;32mIn[15], line 1\u001b[0m\n\u001b[1;32m----> 1\u001b[0m df[\u001b[39m'\u001b[39m\u001b[39mingredients_sorted\u001b[39m\u001b[39m'\u001b[39m] \u001b[39m=\u001b[39m df\u001b[39m.\u001b[39mingredients\u001b[39m.\u001b[39mapply([\u001b[39msorted\u001b[39m(ast\u001b[39m.\u001b[39mliteral_eval(x)) \u001b[39mfor\u001b[39;00m x \u001b[39min\u001b[39;00m df\u001b[39m.\u001b[39mingredients]) \n",
      "Cell \u001b[1;32mIn[15], line 1\u001b[0m, in \u001b[0;36m<listcomp>\u001b[1;34m(.0)\u001b[0m\n\u001b[1;32m----> 1\u001b[0m df[\u001b[39m'\u001b[39m\u001b[39mingredients_sorted\u001b[39m\u001b[39m'\u001b[39m] \u001b[39m=\u001b[39m df\u001b[39m.\u001b[39mingredients\u001b[39m.\u001b[39mapply([\u001b[39msorted\u001b[39m(ast\u001b[39m.\u001b[39;49mliteral_eval(x)) \u001b[39mfor\u001b[39;00m x \u001b[39min\u001b[39;00m df\u001b[39m.\u001b[39mingredients]) \n",
      "File \u001b[1;32m~\\AppData\\Local\\Programs\\Python\\Python39\\lib\\ast.py:105\u001b[0m, in \u001b[0;36mliteral_eval\u001b[1;34m(node_or_string)\u001b[0m\n\u001b[0;32m    103\u001b[0m                 \u001b[39mreturn\u001b[39;00m left \u001b[39m-\u001b[39m right\n\u001b[0;32m    104\u001b[0m     \u001b[39mreturn\u001b[39;00m _convert_signed_num(node)\n\u001b[1;32m--> 105\u001b[0m \u001b[39mreturn\u001b[39;00m _convert(node_or_string)\n",
      "File \u001b[1;32m~\\AppData\\Local\\Programs\\Python\\Python39\\lib\\ast.py:104\u001b[0m, in \u001b[0;36mliteral_eval.<locals>._convert\u001b[1;34m(node)\u001b[0m\n\u001b[0;32m    102\u001b[0m         \u001b[39melse\u001b[39;00m:\n\u001b[0;32m    103\u001b[0m             \u001b[39mreturn\u001b[39;00m left \u001b[39m-\u001b[39m right\n\u001b[1;32m--> 104\u001b[0m \u001b[39mreturn\u001b[39;00m _convert_signed_num(node)\n",
      "File \u001b[1;32m~\\AppData\\Local\\Programs\\Python\\Python39\\lib\\ast.py:78\u001b[0m, in \u001b[0;36mliteral_eval.<locals>._convert_signed_num\u001b[1;34m(node)\u001b[0m\n\u001b[0;32m     76\u001b[0m     \u001b[39melse\u001b[39;00m:\n\u001b[0;32m     77\u001b[0m         \u001b[39mreturn\u001b[39;00m \u001b[39m-\u001b[39m operand\n\u001b[1;32m---> 78\u001b[0m \u001b[39mreturn\u001b[39;00m _convert_num(node)\n",
      "File \u001b[1;32m~\\AppData\\Local\\Programs\\Python\\Python39\\lib\\ast.py:69\u001b[0m, in \u001b[0;36mliteral_eval.<locals>._convert_num\u001b[1;34m(node)\u001b[0m\n\u001b[0;32m     67\u001b[0m \u001b[39mdef\u001b[39;00m \u001b[39m_convert_num\u001b[39m(node):\n\u001b[0;32m     68\u001b[0m     \u001b[39mif\u001b[39;00m \u001b[39mnot\u001b[39;00m \u001b[39misinstance\u001b[39m(node, Constant) \u001b[39mor\u001b[39;00m \u001b[39mtype\u001b[39m(node\u001b[39m.\u001b[39mvalue) \u001b[39mnot\u001b[39;00m \u001b[39min\u001b[39;00m (\u001b[39mint\u001b[39m, \u001b[39mfloat\u001b[39m, \u001b[39mcomplex\u001b[39m):\n\u001b[1;32m---> 69\u001b[0m         _raise_malformed_node(node)\n\u001b[0;32m     70\u001b[0m     \u001b[39mreturn\u001b[39;00m node\u001b[39m.\u001b[39mvalue\n",
      "File \u001b[1;32m~\\AppData\\Local\\Programs\\Python\\Python39\\lib\\ast.py:66\u001b[0m, in \u001b[0;36mliteral_eval.<locals>._raise_malformed_node\u001b[1;34m(node)\u001b[0m\n\u001b[0;32m     65\u001b[0m \u001b[39mdef\u001b[39;00m \u001b[39m_raise_malformed_node\u001b[39m(node):\n\u001b[1;32m---> 66\u001b[0m     \u001b[39mraise\u001b[39;00m \u001b[39mValueError\u001b[39;00m(\u001b[39mf\u001b[39m\u001b[39m'\u001b[39m\u001b[39mmalformed node or string: \u001b[39m\u001b[39m{\u001b[39;00mnode\u001b[39m!r}\u001b[39;00m\u001b[39m'\u001b[39m)\n",
      "\u001b[1;31mValueError\u001b[0m: malformed node or string: ['water', 'grits', 'salt', 'cheddar cheese', 'garlic', 'olive oil']"
     ]
    }
   ],
   "source": [
    "df['ingredients_sorted'] = df.ingredients.apply([sorted(ast.literal_eval(x)) for x in df.ingredients]) "
   ]
  },
  {
   "cell_type": "code",
   "execution_count": null,
   "metadata": {},
   "outputs": [
    {
     "ename": "MemoryError",
     "evalue": "Unable to allocate 3.78 MiB for an array with shape (494963,) and data type uint64",
     "output_type": "error",
     "traceback": [
      "\u001b[1;31m---------------------------------------------------------------------------\u001b[0m",
      "\u001b[1;31mMemoryError\u001b[0m                               Traceback (most recent call last)",
      "Cell \u001b[1;32mIn[75], line 1\u001b[0m\n\u001b[1;32m----> 1\u001b[0m df[\u001b[39m'\u001b[39m\u001b[39mingredients_sorted\u001b[39m\u001b[39m'\u001b[39m] \u001b[39m=\u001b[39m df\u001b[39m.\u001b[39;49mingredients\u001b[39m.\u001b[39;49mapply([\u001b[39mtype\u001b[39;49m(x) \u001b[39mfor\u001b[39;49;00m x \u001b[39min\u001b[39;49;00m df\u001b[39m.\u001b[39;49mingredients])\n",
      "File \u001b[1;32mc:\\Users\\I539063\\Documents\\venvs\\DHBW_Semester_6\\AML_Scherer\\lib\\site-packages\\pandas\\core\\series.py:4430\u001b[0m, in \u001b[0;36mSeries.apply\u001b[1;34m(self, func, convert_dtype, args, **kwargs)\u001b[0m\n\u001b[0;32m   4320\u001b[0m \u001b[39mdef\u001b[39;00m \u001b[39mapply\u001b[39m(\n\u001b[0;32m   4321\u001b[0m     \u001b[39mself\u001b[39m,\n\u001b[0;32m   4322\u001b[0m     func: AggFuncType,\n\u001b[1;32m   (...)\u001b[0m\n\u001b[0;32m   4325\u001b[0m     \u001b[39m*\u001b[39m\u001b[39m*\u001b[39mkwargs,\n\u001b[0;32m   4326\u001b[0m ) \u001b[39m-\u001b[39m\u001b[39m>\u001b[39m DataFrame \u001b[39m|\u001b[39m Series:\n\u001b[0;32m   4327\u001b[0m \u001b[39m    \u001b[39m\u001b[39m\"\"\"\u001b[39;00m\n\u001b[0;32m   4328\u001b[0m \u001b[39m    Invoke function on values of Series.\u001b[39;00m\n\u001b[0;32m   4329\u001b[0m \n\u001b[1;32m   (...)\u001b[0m\n\u001b[0;32m   4428\u001b[0m \u001b[39m    dtype: float64\u001b[39;00m\n\u001b[0;32m   4429\u001b[0m \u001b[39m    \"\"\"\u001b[39;00m\n\u001b[1;32m-> 4430\u001b[0m     \u001b[39mreturn\u001b[39;00m SeriesApply(\u001b[39mself\u001b[39;49m, func, convert_dtype, args, kwargs)\u001b[39m.\u001b[39;49mapply()\n",
      "File \u001b[1;32mc:\\Users\\I539063\\Documents\\venvs\\DHBW_Semester_6\\AML_Scherer\\lib\\site-packages\\pandas\\core\\apply.py:1076\u001b[0m, in \u001b[0;36mSeriesApply.apply\u001b[1;34m(self)\u001b[0m\n\u001b[0;32m   1074\u001b[0m \u001b[39m# dispatch to agg\u001b[39;00m\n\u001b[0;32m   1075\u001b[0m \u001b[39mif\u001b[39;00m is_list_like(\u001b[39mself\u001b[39m\u001b[39m.\u001b[39mf):\n\u001b[1;32m-> 1076\u001b[0m     \u001b[39mreturn\u001b[39;00m \u001b[39mself\u001b[39;49m\u001b[39m.\u001b[39;49mapply_multiple()\n\u001b[0;32m   1078\u001b[0m \u001b[39mif\u001b[39;00m \u001b[39misinstance\u001b[39m(\u001b[39mself\u001b[39m\u001b[39m.\u001b[39mf, \u001b[39mstr\u001b[39m):\n\u001b[0;32m   1079\u001b[0m     \u001b[39m# if we are a string, try to dispatch\u001b[39;00m\n\u001b[0;32m   1080\u001b[0m     \u001b[39mreturn\u001b[39;00m \u001b[39mself\u001b[39m\u001b[39m.\u001b[39mapply_str()\n",
      "File \u001b[1;32mc:\\Users\\I539063\\Documents\\venvs\\DHBW_Semester_6\\AML_Scherer\\lib\\site-packages\\pandas\\core\\apply.py:557\u001b[0m, in \u001b[0;36mApply.apply_multiple\u001b[1;34m(self)\u001b[0m\n\u001b[0;32m    548\u001b[0m \u001b[39mdef\u001b[39;00m \u001b[39mapply_multiple\u001b[39m(\u001b[39mself\u001b[39m) \u001b[39m-\u001b[39m\u001b[39m>\u001b[39m DataFrame \u001b[39m|\u001b[39m Series:\n\u001b[0;32m    549\u001b[0m \u001b[39m    \u001b[39m\u001b[39m\"\"\"\u001b[39;00m\n\u001b[0;32m    550\u001b[0m \u001b[39m    Compute apply in case of a list-like or dict-like.\u001b[39;00m\n\u001b[0;32m    551\u001b[0m \n\u001b[1;32m   (...)\u001b[0m\n\u001b[0;32m    555\u001b[0m \u001b[39m        Result when self.f is a list-like or dict-like, None otherwise.\u001b[39;00m\n\u001b[0;32m    556\u001b[0m \u001b[39m    \"\"\"\u001b[39;00m\n\u001b[1;32m--> 557\u001b[0m     \u001b[39mreturn\u001b[39;00m \u001b[39mself\u001b[39m\u001b[39m.\u001b[39mobj\u001b[39m.\u001b[39maggregate(\u001b[39mself\u001b[39m\u001b[39m.\u001b[39mf, \u001b[39mself\u001b[39m\u001b[39m.\u001b[39maxis, \u001b[39m*\u001b[39m\u001b[39mself\u001b[39m\u001b[39m.\u001b[39margs, \u001b[39m*\u001b[39m\u001b[39m*\u001b[39m\u001b[39mself\u001b[39m\u001b[39m.\u001b[39mkwargs)\n",
      "File \u001b[1;32mc:\\Users\\I539063\\Documents\\venvs\\DHBW_Semester_6\\AML_Scherer\\lib\\site-packages\\pandas\\core\\series.py:4300\u001b[0m, in \u001b[0;36mSeries.aggregate\u001b[1;34m(self, func, axis, *args, **kwargs)\u001b[0m\n\u001b[0;32m   4297\u001b[0m     func \u001b[39m=\u001b[39m \u001b[39mdict\u001b[39m(kwargs\u001b[39m.\u001b[39mitems())\n\u001b[0;32m   4299\u001b[0m op \u001b[39m=\u001b[39m SeriesApply(\u001b[39mself\u001b[39m, func, convert_dtype\u001b[39m=\u001b[39m\u001b[39mFalse\u001b[39;00m, args\u001b[39m=\u001b[39margs, kwargs\u001b[39m=\u001b[39mkwargs)\n\u001b[1;32m-> 4300\u001b[0m result \u001b[39m=\u001b[39m op\u001b[39m.\u001b[39;49magg()\n\u001b[0;32m   4301\u001b[0m \u001b[39mreturn\u001b[39;00m result\n",
      "File \u001b[1;32mc:\\Users\\I539063\\Documents\\venvs\\DHBW_Semester_6\\AML_Scherer\\lib\\site-packages\\pandas\\core\\apply.py:1085\u001b[0m, in \u001b[0;36mSeriesApply.agg\u001b[1;34m(self)\u001b[0m\n\u001b[0;32m   1084\u001b[0m \u001b[39mdef\u001b[39;00m \u001b[39magg\u001b[39m(\u001b[39mself\u001b[39m):\n\u001b[1;32m-> 1085\u001b[0m     result \u001b[39m=\u001b[39m \u001b[39msuper\u001b[39;49m()\u001b[39m.\u001b[39;49magg()\n\u001b[0;32m   1086\u001b[0m     \u001b[39mif\u001b[39;00m result \u001b[39mis\u001b[39;00m \u001b[39mNone\u001b[39;00m:\n\u001b[0;32m   1087\u001b[0m         f \u001b[39m=\u001b[39m \u001b[39mself\u001b[39m\u001b[39m.\u001b[39mf\n",
      "File \u001b[1;32mc:\\Users\\I539063\\Documents\\venvs\\DHBW_Semester_6\\AML_Scherer\\lib\\site-packages\\pandas\\core\\apply.py:171\u001b[0m, in \u001b[0;36mApply.agg\u001b[1;34m(self)\u001b[0m\n\u001b[0;32m    168\u001b[0m     \u001b[39mreturn\u001b[39;00m \u001b[39mself\u001b[39m\u001b[39m.\u001b[39magg_dict_like()\n\u001b[0;32m    169\u001b[0m \u001b[39melif\u001b[39;00m is_list_like(arg):\n\u001b[0;32m    170\u001b[0m     \u001b[39m# we require a list, but not a 'str'\u001b[39;00m\n\u001b[1;32m--> 171\u001b[0m     \u001b[39mreturn\u001b[39;00m \u001b[39mself\u001b[39;49m\u001b[39m.\u001b[39;49magg_list_like()\n\u001b[0;32m    173\u001b[0m \u001b[39mif\u001b[39;00m \u001b[39mcallable\u001b[39m(arg):\n\u001b[0;32m    174\u001b[0m     f \u001b[39m=\u001b[39m com\u001b[39m.\u001b[39mget_cython_func(arg)\n",
      "File \u001b[1;32mc:\\Users\\I539063\\Documents\\venvs\\DHBW_Semester_6\\AML_Scherer\\lib\\site-packages\\pandas\\core\\apply.py:352\u001b[0m, in \u001b[0;36mApply.agg_list_like\u001b[1;34m(self)\u001b[0m\n\u001b[0;32m    350\u001b[0m colg \u001b[39m=\u001b[39m obj\u001b[39m.\u001b[39m_gotitem(selected_obj\u001b[39m.\u001b[39mname, ndim\u001b[39m=\u001b[39m\u001b[39m1\u001b[39m, subset\u001b[39m=\u001b[39mselected_obj)\n\u001b[0;32m    351\u001b[0m \u001b[39mtry\u001b[39;00m:\n\u001b[1;32m--> 352\u001b[0m     new_res \u001b[39m=\u001b[39m colg\u001b[39m.\u001b[39;49maggregate(a)\n\u001b[0;32m    354\u001b[0m \u001b[39mexcept\u001b[39;00m \u001b[39mTypeError\u001b[39;00m:\n\u001b[0;32m    355\u001b[0m     failed_names\u001b[39m.\u001b[39mappend(com\u001b[39m.\u001b[39mget_callable_name(a) \u001b[39mor\u001b[39;00m a)\n",
      "File \u001b[1;32mc:\\Users\\I539063\\Documents\\venvs\\DHBW_Semester_6\\AML_Scherer\\lib\\site-packages\\pandas\\core\\series.py:4300\u001b[0m, in \u001b[0;36mSeries.aggregate\u001b[1;34m(self, func, axis, *args, **kwargs)\u001b[0m\n\u001b[0;32m   4297\u001b[0m     func \u001b[39m=\u001b[39m \u001b[39mdict\u001b[39m(kwargs\u001b[39m.\u001b[39mitems())\n\u001b[0;32m   4299\u001b[0m op \u001b[39m=\u001b[39m SeriesApply(\u001b[39mself\u001b[39m, func, convert_dtype\u001b[39m=\u001b[39m\u001b[39mFalse\u001b[39;00m, args\u001b[39m=\u001b[39margs, kwargs\u001b[39m=\u001b[39mkwargs)\n\u001b[1;32m-> 4300\u001b[0m result \u001b[39m=\u001b[39m op\u001b[39m.\u001b[39;49magg()\n\u001b[0;32m   4301\u001b[0m \u001b[39mreturn\u001b[39;00m result\n",
      "File \u001b[1;32mc:\\Users\\I539063\\Documents\\venvs\\DHBW_Semester_6\\AML_Scherer\\lib\\site-packages\\pandas\\core\\apply.py:1106\u001b[0m, in \u001b[0;36mSeriesApply.agg\u001b[1;34m(self)\u001b[0m\n\u001b[0;32m   1097\u001b[0m \u001b[39m# try a regular apply, this evaluates lambdas\u001b[39;00m\n\u001b[0;32m   1098\u001b[0m \u001b[39m# row-by-row; however if the lambda is expected a Series\u001b[39;00m\n\u001b[0;32m   1099\u001b[0m \u001b[39m# expression, e.g.: lambda x: x-x.quantile(0.25)\u001b[39;00m\n\u001b[1;32m   (...)\u001b[0m\n\u001b[0;32m   1103\u001b[0m \u001b[39m# then .agg and .apply would have different semantics if the\u001b[39;00m\n\u001b[0;32m   1104\u001b[0m \u001b[39m# operation is actually defined on the Series, e.g. str\u001b[39;00m\n\u001b[0;32m   1105\u001b[0m \u001b[39mtry\u001b[39;00m:\n\u001b[1;32m-> 1106\u001b[0m     result \u001b[39m=\u001b[39m \u001b[39mself\u001b[39;49m\u001b[39m.\u001b[39;49mobj\u001b[39m.\u001b[39;49mapply(f)\n\u001b[0;32m   1107\u001b[0m \u001b[39mexcept\u001b[39;00m (\u001b[39mValueError\u001b[39;00m, \u001b[39mAttributeError\u001b[39;00m, \u001b[39mTypeError\u001b[39;00m):\n\u001b[0;32m   1108\u001b[0m     result \u001b[39m=\u001b[39m f(\u001b[39mself\u001b[39m\u001b[39m.\u001b[39mobj)\n",
      "File \u001b[1;32mc:\\Users\\I539063\\Documents\\venvs\\DHBW_Semester_6\\AML_Scherer\\lib\\site-packages\\pandas\\core\\series.py:4430\u001b[0m, in \u001b[0;36mSeries.apply\u001b[1;34m(self, func, convert_dtype, args, **kwargs)\u001b[0m\n\u001b[0;32m   4320\u001b[0m \u001b[39mdef\u001b[39;00m \u001b[39mapply\u001b[39m(\n\u001b[0;32m   4321\u001b[0m     \u001b[39mself\u001b[39m,\n\u001b[0;32m   4322\u001b[0m     func: AggFuncType,\n\u001b[1;32m   (...)\u001b[0m\n\u001b[0;32m   4325\u001b[0m     \u001b[39m*\u001b[39m\u001b[39m*\u001b[39mkwargs,\n\u001b[0;32m   4326\u001b[0m ) \u001b[39m-\u001b[39m\u001b[39m>\u001b[39m DataFrame \u001b[39m|\u001b[39m Series:\n\u001b[0;32m   4327\u001b[0m \u001b[39m    \u001b[39m\u001b[39m\"\"\"\u001b[39;00m\n\u001b[0;32m   4328\u001b[0m \u001b[39m    Invoke function on values of Series.\u001b[39;00m\n\u001b[0;32m   4329\u001b[0m \n\u001b[1;32m   (...)\u001b[0m\n\u001b[0;32m   4428\u001b[0m \u001b[39m    dtype: float64\u001b[39;00m\n\u001b[0;32m   4429\u001b[0m \u001b[39m    \"\"\"\u001b[39;00m\n\u001b[1;32m-> 4430\u001b[0m     \u001b[39mreturn\u001b[39;00m SeriesApply(\u001b[39mself\u001b[39;49m, func, convert_dtype, args, kwargs)\u001b[39m.\u001b[39;49mapply()\n",
      "File \u001b[1;32mc:\\Users\\I539063\\Documents\\venvs\\DHBW_Semester_6\\AML_Scherer\\lib\\site-packages\\pandas\\core\\apply.py:1082\u001b[0m, in \u001b[0;36mSeriesApply.apply\u001b[1;34m(self)\u001b[0m\n\u001b[0;32m   1078\u001b[0m \u001b[39mif\u001b[39;00m \u001b[39misinstance\u001b[39m(\u001b[39mself\u001b[39m\u001b[39m.\u001b[39mf, \u001b[39mstr\u001b[39m):\n\u001b[0;32m   1079\u001b[0m     \u001b[39m# if we are a string, try to dispatch\u001b[39;00m\n\u001b[0;32m   1080\u001b[0m     \u001b[39mreturn\u001b[39;00m \u001b[39mself\u001b[39m\u001b[39m.\u001b[39mapply_str()\n\u001b[1;32m-> 1082\u001b[0m \u001b[39mreturn\u001b[39;00m \u001b[39mself\u001b[39;49m\u001b[39m.\u001b[39;49mapply_standard()\n",
      "File \u001b[1;32mc:\\Users\\I539063\\Documents\\venvs\\DHBW_Semester_6\\AML_Scherer\\lib\\site-packages\\pandas\\core\\apply.py:1137\u001b[0m, in \u001b[0;36mSeriesApply.apply_standard\u001b[1;34m(self)\u001b[0m\n\u001b[0;32m   1131\u001b[0m         values \u001b[39m=\u001b[39m obj\u001b[39m.\u001b[39mastype(\u001b[39mobject\u001b[39m)\u001b[39m.\u001b[39m_values\n\u001b[0;32m   1132\u001b[0m         \u001b[39m# error: Argument 2 to \"map_infer\" has incompatible type\u001b[39;00m\n\u001b[0;32m   1133\u001b[0m         \u001b[39m# \"Union[Callable[..., Any], str, List[Union[Callable[..., Any], str]],\u001b[39;00m\n\u001b[0;32m   1134\u001b[0m         \u001b[39m# Dict[Hashable, Union[Union[Callable[..., Any], str],\u001b[39;00m\n\u001b[0;32m   1135\u001b[0m         \u001b[39m# List[Union[Callable[..., Any], str]]]]]\"; expected\u001b[39;00m\n\u001b[0;32m   1136\u001b[0m         \u001b[39m# \"Callable[[Any], Any]\"\u001b[39;00m\n\u001b[1;32m-> 1137\u001b[0m         mapped \u001b[39m=\u001b[39m lib\u001b[39m.\u001b[39;49mmap_infer(\n\u001b[0;32m   1138\u001b[0m             values,\n\u001b[0;32m   1139\u001b[0m             f,  \u001b[39m# type: ignore[arg-type]\u001b[39;49;00m\n\u001b[0;32m   1140\u001b[0m             convert\u001b[39m=\u001b[39;49m\u001b[39mself\u001b[39;49m\u001b[39m.\u001b[39;49mconvert_dtype,\n\u001b[0;32m   1141\u001b[0m         )\n\u001b[0;32m   1143\u001b[0m \u001b[39mif\u001b[39;00m \u001b[39mlen\u001b[39m(mapped) \u001b[39mand\u001b[39;00m \u001b[39misinstance\u001b[39m(mapped[\u001b[39m0\u001b[39m], ABCSeries):\n\u001b[0;32m   1144\u001b[0m     \u001b[39m# GH#43986 Need to do list(mapped) in order to get treated as nested\u001b[39;00m\n\u001b[0;32m   1145\u001b[0m     \u001b[39m#  See also GH#25959 regarding EA support\u001b[39;00m\n\u001b[0;32m   1146\u001b[0m     \u001b[39mreturn\u001b[39;00m obj\u001b[39m.\u001b[39m_constructor_expanddim(\u001b[39mlist\u001b[39m(mapped), index\u001b[39m=\u001b[39mobj\u001b[39m.\u001b[39mindex)\n",
      "File \u001b[1;32mc:\\Users\\I539063\\Documents\\venvs\\DHBW_Semester_6\\AML_Scherer\\lib\\site-packages\\pandas\\_libs\\lib.pyx:2879\u001b[0m, in \u001b[0;36mpandas._libs.lib.map_infer\u001b[1;34m()\u001b[0m\n",
      "File \u001b[1;32mc:\\Users\\I539063\\Documents\\venvs\\DHBW_Semester_6\\AML_Scherer\\lib\\site-packages\\pandas\\_libs\\lib.pyx:2459\u001b[0m, in \u001b[0;36mpandas._libs.lib.maybe_convert_objects\u001b[1;34m()\u001b[0m\n",
      "\u001b[1;31mMemoryError\u001b[0m: Unable to allocate 3.78 MiB for an array with shape (494963,) and data type uint64"
     ]
    }
   ],
   "source": [
    "df['ingredients_sorted'] = df.ingredients.apply([type(x) for x in df.ingredients])"
   ]
  },
  {
   "cell_type": "code",
   "execution_count": null,
   "metadata": {},
   "outputs": [],
   "source": [
    "df"
   ]
  }
 ],
 "metadata": {
  "kernelspec": {
   "display_name": "AML_Scherer",
   "language": "python",
   "name": "python3"
  },
  "language_info": {
   "codemirror_mode": {
    "name": "ipython",
    "version": 3
   },
   "file_extension": ".py",
   "mimetype": "text/x-python",
   "name": "python",
   "nbconvert_exporter": "python",
   "pygments_lexer": "ipython3",
   "version": "3.9.10"
  },
  "orig_nbformat": 4
 },
 "nbformat": 4,
 "nbformat_minor": 2
}
